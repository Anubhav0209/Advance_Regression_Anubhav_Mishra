{
 "cells": [
  {
   "cell_type": "markdown",
   "id": "fac97c26",
   "metadata": {},
   "source": [
    "# Ridge and Lasso Regression (US-based housing company)"
   ]
  },
  {
   "cell_type": "markdown",
   "id": "10019435",
   "metadata": {},
   "source": [
    "## Problem Statement"
   ]
  },
  {
   "cell_type": "markdown",
   "id": "bfaaf551",
   "metadata": {},
   "source": [
    "#### A US-based housing company named Surprise Housing has detected to enter the Australian market. The company uses data analytics to purchase houses at a price below their actual values and flip them on a higher price. For the same purpose, the company has collected a data set from the sale of houses in Australia.\n",
    "\n",
    "#### We are required to build a regression model using regularisation(l1 norm and l2 norm) in order to predict the actual value of the prospective properties and decide whether to invest in them or not. We have to identify the following:\n",
    "\n",
    "#### i) Which features are significant in predicting the price of a house,\n",
    "#### ii) How well those features describe the price of a house,\n",
    "#### iii) Optimal value of strength of penalty(λ) for ridge and lasso?"
   ]
  },
  {
   "cell_type": "markdown",
   "id": "2ca1671e",
   "metadata": {},
   "source": [
    "## Exploratory Data Analysis"
   ]
  },
  {
   "cell_type": "code",
   "execution_count": 1,
   "id": "8d9ce59f",
   "metadata": {},
   "outputs": [],
   "source": [
    "#importing libraries to perform the data analysis\n",
    "import numpy as np\n",
    "import pandas as pd\n",
    "import matplotlib.pyplot as plt\n",
    "import seaborn as sns\n",
    "import warnings\n",
    "warnings.filterwarnings('ignore')"
   ]
  },
  {
   "cell_type": "code",
   "execution_count": 2,
   "id": "21f7abdd",
   "metadata": {},
   "outputs": [
    {
     "data": {
      "text/html": [
       "<div>\n",
       "<style scoped>\n",
       "    .dataframe tbody tr th:only-of-type {\n",
       "        vertical-align: middle;\n",
       "    }\n",
       "\n",
       "    .dataframe tbody tr th {\n",
       "        vertical-align: top;\n",
       "    }\n",
       "\n",
       "    .dataframe thead th {\n",
       "        text-align: right;\n",
       "    }\n",
       "</style>\n",
       "<table border=\"1\" class=\"dataframe\">\n",
       "  <thead>\n",
       "    <tr style=\"text-align: right;\">\n",
       "      <th></th>\n",
       "      <th>Id</th>\n",
       "      <th>MSSubClass</th>\n",
       "      <th>MSZoning</th>\n",
       "      <th>LotFrontage</th>\n",
       "      <th>LotArea</th>\n",
       "      <th>Street</th>\n",
       "      <th>Alley</th>\n",
       "      <th>LotShape</th>\n",
       "      <th>LandContour</th>\n",
       "      <th>Utilities</th>\n",
       "      <th>...</th>\n",
       "      <th>PoolArea</th>\n",
       "      <th>PoolQC</th>\n",
       "      <th>Fence</th>\n",
       "      <th>MiscFeature</th>\n",
       "      <th>MiscVal</th>\n",
       "      <th>MoSold</th>\n",
       "      <th>YrSold</th>\n",
       "      <th>SaleType</th>\n",
       "      <th>SaleCondition</th>\n",
       "      <th>SalePrice</th>\n",
       "    </tr>\n",
       "  </thead>\n",
       "  <tbody>\n",
       "    <tr>\n",
       "      <th>0</th>\n",
       "      <td>1</td>\n",
       "      <td>60</td>\n",
       "      <td>RL</td>\n",
       "      <td>65.0</td>\n",
       "      <td>8450</td>\n",
       "      <td>Pave</td>\n",
       "      <td>NaN</td>\n",
       "      <td>Reg</td>\n",
       "      <td>Lvl</td>\n",
       "      <td>AllPub</td>\n",
       "      <td>...</td>\n",
       "      <td>0</td>\n",
       "      <td>NaN</td>\n",
       "      <td>NaN</td>\n",
       "      <td>NaN</td>\n",
       "      <td>0</td>\n",
       "      <td>2</td>\n",
       "      <td>2008</td>\n",
       "      <td>WD</td>\n",
       "      <td>Normal</td>\n",
       "      <td>208500</td>\n",
       "    </tr>\n",
       "    <tr>\n",
       "      <th>1</th>\n",
       "      <td>2</td>\n",
       "      <td>20</td>\n",
       "      <td>RL</td>\n",
       "      <td>80.0</td>\n",
       "      <td>9600</td>\n",
       "      <td>Pave</td>\n",
       "      <td>NaN</td>\n",
       "      <td>Reg</td>\n",
       "      <td>Lvl</td>\n",
       "      <td>AllPub</td>\n",
       "      <td>...</td>\n",
       "      <td>0</td>\n",
       "      <td>NaN</td>\n",
       "      <td>NaN</td>\n",
       "      <td>NaN</td>\n",
       "      <td>0</td>\n",
       "      <td>5</td>\n",
       "      <td>2007</td>\n",
       "      <td>WD</td>\n",
       "      <td>Normal</td>\n",
       "      <td>181500</td>\n",
       "    </tr>\n",
       "    <tr>\n",
       "      <th>2</th>\n",
       "      <td>3</td>\n",
       "      <td>60</td>\n",
       "      <td>RL</td>\n",
       "      <td>68.0</td>\n",
       "      <td>11250</td>\n",
       "      <td>Pave</td>\n",
       "      <td>NaN</td>\n",
       "      <td>IR1</td>\n",
       "      <td>Lvl</td>\n",
       "      <td>AllPub</td>\n",
       "      <td>...</td>\n",
       "      <td>0</td>\n",
       "      <td>NaN</td>\n",
       "      <td>NaN</td>\n",
       "      <td>NaN</td>\n",
       "      <td>0</td>\n",
       "      <td>9</td>\n",
       "      <td>2008</td>\n",
       "      <td>WD</td>\n",
       "      <td>Normal</td>\n",
       "      <td>223500</td>\n",
       "    </tr>\n",
       "    <tr>\n",
       "      <th>3</th>\n",
       "      <td>4</td>\n",
       "      <td>70</td>\n",
       "      <td>RL</td>\n",
       "      <td>60.0</td>\n",
       "      <td>9550</td>\n",
       "      <td>Pave</td>\n",
       "      <td>NaN</td>\n",
       "      <td>IR1</td>\n",
       "      <td>Lvl</td>\n",
       "      <td>AllPub</td>\n",
       "      <td>...</td>\n",
       "      <td>0</td>\n",
       "      <td>NaN</td>\n",
       "      <td>NaN</td>\n",
       "      <td>NaN</td>\n",
       "      <td>0</td>\n",
       "      <td>2</td>\n",
       "      <td>2006</td>\n",
       "      <td>WD</td>\n",
       "      <td>Abnorml</td>\n",
       "      <td>140000</td>\n",
       "    </tr>\n",
       "    <tr>\n",
       "      <th>4</th>\n",
       "      <td>5</td>\n",
       "      <td>60</td>\n",
       "      <td>RL</td>\n",
       "      <td>84.0</td>\n",
       "      <td>14260</td>\n",
       "      <td>Pave</td>\n",
       "      <td>NaN</td>\n",
       "      <td>IR1</td>\n",
       "      <td>Lvl</td>\n",
       "      <td>AllPub</td>\n",
       "      <td>...</td>\n",
       "      <td>0</td>\n",
       "      <td>NaN</td>\n",
       "      <td>NaN</td>\n",
       "      <td>NaN</td>\n",
       "      <td>0</td>\n",
       "      <td>12</td>\n",
       "      <td>2008</td>\n",
       "      <td>WD</td>\n",
       "      <td>Normal</td>\n",
       "      <td>250000</td>\n",
       "    </tr>\n",
       "  </tbody>\n",
       "</table>\n",
       "<p>5 rows × 81 columns</p>\n",
       "</div>"
      ],
      "text/plain": [
       "   Id  MSSubClass MSZoning  LotFrontage  LotArea Street Alley LotShape  \\\n",
       "0   1          60       RL         65.0     8450   Pave   NaN      Reg   \n",
       "1   2          20       RL         80.0     9600   Pave   NaN      Reg   \n",
       "2   3          60       RL         68.0    11250   Pave   NaN      IR1   \n",
       "3   4          70       RL         60.0     9550   Pave   NaN      IR1   \n",
       "4   5          60       RL         84.0    14260   Pave   NaN      IR1   \n",
       "\n",
       "  LandContour Utilities  ... PoolArea PoolQC Fence MiscFeature MiscVal MoSold  \\\n",
       "0         Lvl    AllPub  ...        0    NaN   NaN         NaN       0      2   \n",
       "1         Lvl    AllPub  ...        0    NaN   NaN         NaN       0      5   \n",
       "2         Lvl    AllPub  ...        0    NaN   NaN         NaN       0      9   \n",
       "3         Lvl    AllPub  ...        0    NaN   NaN         NaN       0      2   \n",
       "4         Lvl    AllPub  ...        0    NaN   NaN         NaN       0     12   \n",
       "\n",
       "  YrSold  SaleType  SaleCondition  SalePrice  \n",
       "0   2008        WD         Normal     208500  \n",
       "1   2007        WD         Normal     181500  \n",
       "2   2008        WD         Normal     223500  \n",
       "3   2006        WD        Abnorml     140000  \n",
       "4   2008        WD         Normal     250000  \n",
       "\n",
       "[5 rows x 81 columns]"
      ]
     },
     "execution_count": 2,
     "metadata": {},
     "output_type": "execute_result"
    }
   ],
   "source": [
    "#reading the csv file\n",
    "df = pd.read_csv('train.csv')\n",
    "\n",
    "#showing the dataframe\n",
    "df.head()"
   ]
  },
  {
   "cell_type": "code",
   "execution_count": 3,
   "id": "2e3aa85a",
   "metadata": {},
   "outputs": [
    {
     "name": "stdout",
     "output_type": "stream",
     "text": [
      "<class 'pandas.core.frame.DataFrame'>\n",
      "RangeIndex: 1460 entries, 0 to 1459\n",
      "Data columns (total 81 columns):\n",
      " #   Column         Non-Null Count  Dtype  \n",
      "---  ------         --------------  -----  \n",
      " 0   Id             1460 non-null   int64  \n",
      " 1   MSSubClass     1460 non-null   int64  \n",
      " 2   MSZoning       1460 non-null   object \n",
      " 3   LotFrontage    1201 non-null   float64\n",
      " 4   LotArea        1460 non-null   int64  \n",
      " 5   Street         1460 non-null   object \n",
      " 6   Alley          91 non-null     object \n",
      " 7   LotShape       1460 non-null   object \n",
      " 8   LandContour    1460 non-null   object \n",
      " 9   Utilities      1460 non-null   object \n",
      " 10  LotConfig      1460 non-null   object \n",
      " 11  LandSlope      1460 non-null   object \n",
      " 12  Neighborhood   1460 non-null   object \n",
      " 13  Condition1     1460 non-null   object \n",
      " 14  Condition2     1460 non-null   object \n",
      " 15  BldgType       1460 non-null   object \n",
      " 16  HouseStyle     1460 non-null   object \n",
      " 17  OverallQual    1460 non-null   int64  \n",
      " 18  OverallCond    1460 non-null   int64  \n",
      " 19  YearBuilt      1460 non-null   int64  \n",
      " 20  YearRemodAdd   1460 non-null   int64  \n",
      " 21  RoofStyle      1460 non-null   object \n",
      " 22  RoofMatl       1460 non-null   object \n",
      " 23  Exterior1st    1460 non-null   object \n",
      " 24  Exterior2nd    1460 non-null   object \n",
      " 25  MasVnrType     1452 non-null   object \n",
      " 26  MasVnrArea     1452 non-null   float64\n",
      " 27  ExterQual      1460 non-null   object \n",
      " 28  ExterCond      1460 non-null   object \n",
      " 29  Foundation     1460 non-null   object \n",
      " 30  BsmtQual       1423 non-null   object \n",
      " 31  BsmtCond       1423 non-null   object \n",
      " 32  BsmtExposure   1422 non-null   object \n",
      " 33  BsmtFinType1   1423 non-null   object \n",
      " 34  BsmtFinSF1     1460 non-null   int64  \n",
      " 35  BsmtFinType2   1422 non-null   object \n",
      " 36  BsmtFinSF2     1460 non-null   int64  \n",
      " 37  BsmtUnfSF      1460 non-null   int64  \n",
      " 38  TotalBsmtSF    1460 non-null   int64  \n",
      " 39  Heating        1460 non-null   object \n",
      " 40  HeatingQC      1460 non-null   object \n",
      " 41  CentralAir     1460 non-null   object \n",
      " 42  Electrical     1459 non-null   object \n",
      " 43  1stFlrSF       1460 non-null   int64  \n",
      " 44  2ndFlrSF       1460 non-null   int64  \n",
      " 45  LowQualFinSF   1460 non-null   int64  \n",
      " 46  GrLivArea      1460 non-null   int64  \n",
      " 47  BsmtFullBath   1460 non-null   int64  \n",
      " 48  BsmtHalfBath   1460 non-null   int64  \n",
      " 49  FullBath       1460 non-null   int64  \n",
      " 50  HalfBath       1460 non-null   int64  \n",
      " 51  BedroomAbvGr   1460 non-null   int64  \n",
      " 52  KitchenAbvGr   1460 non-null   int64  \n",
      " 53  KitchenQual    1460 non-null   object \n",
      " 54  TotRmsAbvGrd   1460 non-null   int64  \n",
      " 55  Functional     1460 non-null   object \n",
      " 56  Fireplaces     1460 non-null   int64  \n",
      " 57  FireplaceQu    770 non-null    object \n",
      " 58  GarageType     1379 non-null   object \n",
      " 59  GarageYrBlt    1379 non-null   float64\n",
      " 60  GarageFinish   1379 non-null   object \n",
      " 61  GarageCars     1460 non-null   int64  \n",
      " 62  GarageArea     1460 non-null   int64  \n",
      " 63  GarageQual     1379 non-null   object \n",
      " 64  GarageCond     1379 non-null   object \n",
      " 65  PavedDrive     1460 non-null   object \n",
      " 66  WoodDeckSF     1460 non-null   int64  \n",
      " 67  OpenPorchSF    1460 non-null   int64  \n",
      " 68  EnclosedPorch  1460 non-null   int64  \n",
      " 69  3SsnPorch      1460 non-null   int64  \n",
      " 70  ScreenPorch    1460 non-null   int64  \n",
      " 71  PoolArea       1460 non-null   int64  \n",
      " 72  PoolQC         7 non-null      object \n",
      " 73  Fence          281 non-null    object \n",
      " 74  MiscFeature    54 non-null     object \n",
      " 75  MiscVal        1460 non-null   int64  \n",
      " 76  MoSold         1460 non-null   int64  \n",
      " 77  YrSold         1460 non-null   int64  \n",
      " 78  SaleType       1460 non-null   object \n",
      " 79  SaleCondition  1460 non-null   object \n",
      " 80  SalePrice      1460 non-null   int64  \n",
      "dtypes: float64(3), int64(35), object(43)\n",
      "memory usage: 924.0+ KB\n"
     ]
    }
   ],
   "source": [
    "#getting some information related to the datatypes in this dataframe\n",
    "df.info()"
   ]
  },
  {
   "cell_type": "markdown",
   "id": "4befadec",
   "metadata": {},
   "source": [
    "There are some columns which has high number of nulls and lot of columns have object as datatype hence we will require to convert the datatype"
   ]
  },
  {
   "cell_type": "code",
   "execution_count": 4,
   "id": "00928739",
   "metadata": {},
   "outputs": [
    {
     "data": {
      "text/html": [
       "<div>\n",
       "<style scoped>\n",
       "    .dataframe tbody tr th:only-of-type {\n",
       "        vertical-align: middle;\n",
       "    }\n",
       "\n",
       "    .dataframe tbody tr th {\n",
       "        vertical-align: top;\n",
       "    }\n",
       "\n",
       "    .dataframe thead th {\n",
       "        text-align: right;\n",
       "    }\n",
       "</style>\n",
       "<table border=\"1\" class=\"dataframe\">\n",
       "  <thead>\n",
       "    <tr style=\"text-align: right;\">\n",
       "      <th></th>\n",
       "      <th>Id</th>\n",
       "      <th>MSSubClass</th>\n",
       "      <th>LotFrontage</th>\n",
       "      <th>LotArea</th>\n",
       "      <th>OverallQual</th>\n",
       "      <th>OverallCond</th>\n",
       "      <th>YearBuilt</th>\n",
       "      <th>YearRemodAdd</th>\n",
       "      <th>MasVnrArea</th>\n",
       "      <th>BsmtFinSF1</th>\n",
       "      <th>...</th>\n",
       "      <th>WoodDeckSF</th>\n",
       "      <th>OpenPorchSF</th>\n",
       "      <th>EnclosedPorch</th>\n",
       "      <th>3SsnPorch</th>\n",
       "      <th>ScreenPorch</th>\n",
       "      <th>PoolArea</th>\n",
       "      <th>MiscVal</th>\n",
       "      <th>MoSold</th>\n",
       "      <th>YrSold</th>\n",
       "      <th>SalePrice</th>\n",
       "    </tr>\n",
       "  </thead>\n",
       "  <tbody>\n",
       "    <tr>\n",
       "      <th>count</th>\n",
       "      <td>1460.000000</td>\n",
       "      <td>1460.000000</td>\n",
       "      <td>1201.000000</td>\n",
       "      <td>1460.000000</td>\n",
       "      <td>1460.000000</td>\n",
       "      <td>1460.000000</td>\n",
       "      <td>1460.000000</td>\n",
       "      <td>1460.000000</td>\n",
       "      <td>1452.000000</td>\n",
       "      <td>1460.000000</td>\n",
       "      <td>...</td>\n",
       "      <td>1460.000000</td>\n",
       "      <td>1460.000000</td>\n",
       "      <td>1460.000000</td>\n",
       "      <td>1460.000000</td>\n",
       "      <td>1460.000000</td>\n",
       "      <td>1460.000000</td>\n",
       "      <td>1460.000000</td>\n",
       "      <td>1460.000000</td>\n",
       "      <td>1460.000000</td>\n",
       "      <td>1460.000000</td>\n",
       "    </tr>\n",
       "    <tr>\n",
       "      <th>mean</th>\n",
       "      <td>730.500000</td>\n",
       "      <td>56.897260</td>\n",
       "      <td>70.049958</td>\n",
       "      <td>10516.828082</td>\n",
       "      <td>6.099315</td>\n",
       "      <td>5.575342</td>\n",
       "      <td>1971.267808</td>\n",
       "      <td>1984.865753</td>\n",
       "      <td>103.685262</td>\n",
       "      <td>443.639726</td>\n",
       "      <td>...</td>\n",
       "      <td>94.244521</td>\n",
       "      <td>46.660274</td>\n",
       "      <td>21.954110</td>\n",
       "      <td>3.409589</td>\n",
       "      <td>15.060959</td>\n",
       "      <td>2.758904</td>\n",
       "      <td>43.489041</td>\n",
       "      <td>6.321918</td>\n",
       "      <td>2007.815753</td>\n",
       "      <td>180921.195890</td>\n",
       "    </tr>\n",
       "    <tr>\n",
       "      <th>std</th>\n",
       "      <td>421.610009</td>\n",
       "      <td>42.300571</td>\n",
       "      <td>24.284752</td>\n",
       "      <td>9981.264932</td>\n",
       "      <td>1.382997</td>\n",
       "      <td>1.112799</td>\n",
       "      <td>30.202904</td>\n",
       "      <td>20.645407</td>\n",
       "      <td>181.066207</td>\n",
       "      <td>456.098091</td>\n",
       "      <td>...</td>\n",
       "      <td>125.338794</td>\n",
       "      <td>66.256028</td>\n",
       "      <td>61.119149</td>\n",
       "      <td>29.317331</td>\n",
       "      <td>55.757415</td>\n",
       "      <td>40.177307</td>\n",
       "      <td>496.123024</td>\n",
       "      <td>2.703626</td>\n",
       "      <td>1.328095</td>\n",
       "      <td>79442.502883</td>\n",
       "    </tr>\n",
       "    <tr>\n",
       "      <th>min</th>\n",
       "      <td>1.000000</td>\n",
       "      <td>20.000000</td>\n",
       "      <td>21.000000</td>\n",
       "      <td>1300.000000</td>\n",
       "      <td>1.000000</td>\n",
       "      <td>1.000000</td>\n",
       "      <td>1872.000000</td>\n",
       "      <td>1950.000000</td>\n",
       "      <td>0.000000</td>\n",
       "      <td>0.000000</td>\n",
       "      <td>...</td>\n",
       "      <td>0.000000</td>\n",
       "      <td>0.000000</td>\n",
       "      <td>0.000000</td>\n",
       "      <td>0.000000</td>\n",
       "      <td>0.000000</td>\n",
       "      <td>0.000000</td>\n",
       "      <td>0.000000</td>\n",
       "      <td>1.000000</td>\n",
       "      <td>2006.000000</td>\n",
       "      <td>34900.000000</td>\n",
       "    </tr>\n",
       "    <tr>\n",
       "      <th>25%</th>\n",
       "      <td>365.750000</td>\n",
       "      <td>20.000000</td>\n",
       "      <td>59.000000</td>\n",
       "      <td>7553.500000</td>\n",
       "      <td>5.000000</td>\n",
       "      <td>5.000000</td>\n",
       "      <td>1954.000000</td>\n",
       "      <td>1967.000000</td>\n",
       "      <td>0.000000</td>\n",
       "      <td>0.000000</td>\n",
       "      <td>...</td>\n",
       "      <td>0.000000</td>\n",
       "      <td>0.000000</td>\n",
       "      <td>0.000000</td>\n",
       "      <td>0.000000</td>\n",
       "      <td>0.000000</td>\n",
       "      <td>0.000000</td>\n",
       "      <td>0.000000</td>\n",
       "      <td>5.000000</td>\n",
       "      <td>2007.000000</td>\n",
       "      <td>129975.000000</td>\n",
       "    </tr>\n",
       "    <tr>\n",
       "      <th>50%</th>\n",
       "      <td>730.500000</td>\n",
       "      <td>50.000000</td>\n",
       "      <td>69.000000</td>\n",
       "      <td>9478.500000</td>\n",
       "      <td>6.000000</td>\n",
       "      <td>5.000000</td>\n",
       "      <td>1973.000000</td>\n",
       "      <td>1994.000000</td>\n",
       "      <td>0.000000</td>\n",
       "      <td>383.500000</td>\n",
       "      <td>...</td>\n",
       "      <td>0.000000</td>\n",
       "      <td>25.000000</td>\n",
       "      <td>0.000000</td>\n",
       "      <td>0.000000</td>\n",
       "      <td>0.000000</td>\n",
       "      <td>0.000000</td>\n",
       "      <td>0.000000</td>\n",
       "      <td>6.000000</td>\n",
       "      <td>2008.000000</td>\n",
       "      <td>163000.000000</td>\n",
       "    </tr>\n",
       "    <tr>\n",
       "      <th>75%</th>\n",
       "      <td>1095.250000</td>\n",
       "      <td>70.000000</td>\n",
       "      <td>80.000000</td>\n",
       "      <td>11601.500000</td>\n",
       "      <td>7.000000</td>\n",
       "      <td>6.000000</td>\n",
       "      <td>2000.000000</td>\n",
       "      <td>2004.000000</td>\n",
       "      <td>166.000000</td>\n",
       "      <td>712.250000</td>\n",
       "      <td>...</td>\n",
       "      <td>168.000000</td>\n",
       "      <td>68.000000</td>\n",
       "      <td>0.000000</td>\n",
       "      <td>0.000000</td>\n",
       "      <td>0.000000</td>\n",
       "      <td>0.000000</td>\n",
       "      <td>0.000000</td>\n",
       "      <td>8.000000</td>\n",
       "      <td>2009.000000</td>\n",
       "      <td>214000.000000</td>\n",
       "    </tr>\n",
       "    <tr>\n",
       "      <th>max</th>\n",
       "      <td>1460.000000</td>\n",
       "      <td>190.000000</td>\n",
       "      <td>313.000000</td>\n",
       "      <td>215245.000000</td>\n",
       "      <td>10.000000</td>\n",
       "      <td>9.000000</td>\n",
       "      <td>2010.000000</td>\n",
       "      <td>2010.000000</td>\n",
       "      <td>1600.000000</td>\n",
       "      <td>5644.000000</td>\n",
       "      <td>...</td>\n",
       "      <td>857.000000</td>\n",
       "      <td>547.000000</td>\n",
       "      <td>552.000000</td>\n",
       "      <td>508.000000</td>\n",
       "      <td>480.000000</td>\n",
       "      <td>738.000000</td>\n",
       "      <td>15500.000000</td>\n",
       "      <td>12.000000</td>\n",
       "      <td>2010.000000</td>\n",
       "      <td>755000.000000</td>\n",
       "    </tr>\n",
       "  </tbody>\n",
       "</table>\n",
       "<p>8 rows × 38 columns</p>\n",
       "</div>"
      ],
      "text/plain": [
       "                Id   MSSubClass  LotFrontage        LotArea  OverallQual  \\\n",
       "count  1460.000000  1460.000000  1201.000000    1460.000000  1460.000000   \n",
       "mean    730.500000    56.897260    70.049958   10516.828082     6.099315   \n",
       "std     421.610009    42.300571    24.284752    9981.264932     1.382997   \n",
       "min       1.000000    20.000000    21.000000    1300.000000     1.000000   \n",
       "25%     365.750000    20.000000    59.000000    7553.500000     5.000000   \n",
       "50%     730.500000    50.000000    69.000000    9478.500000     6.000000   \n",
       "75%    1095.250000    70.000000    80.000000   11601.500000     7.000000   \n",
       "max    1460.000000   190.000000   313.000000  215245.000000    10.000000   \n",
       "\n",
       "       OverallCond    YearBuilt  YearRemodAdd   MasVnrArea   BsmtFinSF1  ...  \\\n",
       "count  1460.000000  1460.000000   1460.000000  1452.000000  1460.000000  ...   \n",
       "mean      5.575342  1971.267808   1984.865753   103.685262   443.639726  ...   \n",
       "std       1.112799    30.202904     20.645407   181.066207   456.098091  ...   \n",
       "min       1.000000  1872.000000   1950.000000     0.000000     0.000000  ...   \n",
       "25%       5.000000  1954.000000   1967.000000     0.000000     0.000000  ...   \n",
       "50%       5.000000  1973.000000   1994.000000     0.000000   383.500000  ...   \n",
       "75%       6.000000  2000.000000   2004.000000   166.000000   712.250000  ...   \n",
       "max       9.000000  2010.000000   2010.000000  1600.000000  5644.000000  ...   \n",
       "\n",
       "        WoodDeckSF  OpenPorchSF  EnclosedPorch    3SsnPorch  ScreenPorch  \\\n",
       "count  1460.000000  1460.000000    1460.000000  1460.000000  1460.000000   \n",
       "mean     94.244521    46.660274      21.954110     3.409589    15.060959   \n",
       "std     125.338794    66.256028      61.119149    29.317331    55.757415   \n",
       "min       0.000000     0.000000       0.000000     0.000000     0.000000   \n",
       "25%       0.000000     0.000000       0.000000     0.000000     0.000000   \n",
       "50%       0.000000    25.000000       0.000000     0.000000     0.000000   \n",
       "75%     168.000000    68.000000       0.000000     0.000000     0.000000   \n",
       "max     857.000000   547.000000     552.000000   508.000000   480.000000   \n",
       "\n",
       "          PoolArea       MiscVal       MoSold       YrSold      SalePrice  \n",
       "count  1460.000000   1460.000000  1460.000000  1460.000000    1460.000000  \n",
       "mean      2.758904     43.489041     6.321918  2007.815753  180921.195890  \n",
       "std      40.177307    496.123024     2.703626     1.328095   79442.502883  \n",
       "min       0.000000      0.000000     1.000000  2006.000000   34900.000000  \n",
       "25%       0.000000      0.000000     5.000000  2007.000000  129975.000000  \n",
       "50%       0.000000      0.000000     6.000000  2008.000000  163000.000000  \n",
       "75%       0.000000      0.000000     8.000000  2009.000000  214000.000000  \n",
       "max     738.000000  15500.000000    12.000000  2010.000000  755000.000000  \n",
       "\n",
       "[8 rows x 38 columns]"
      ]
     },
     "execution_count": 4,
     "metadata": {},
     "output_type": "execute_result"
    }
   ],
   "source": [
    "#describing the dataframe\n",
    "df.describe()"
   ]
  },
  {
   "cell_type": "markdown",
   "id": "764cc062",
   "metadata": {},
   "source": [
    "##### The id column is not an unique identifier for each entry and does not play very important role in prdicting the price of sales so dropping the column"
   ]
  },
  {
   "cell_type": "code",
   "execution_count": 5,
   "id": "51c8df6d",
   "metadata": {},
   "outputs": [],
   "source": [
    "df.drop('Id',axis=1,inplace=True)"
   ]
  },
  {
   "cell_type": "code",
   "execution_count": 6,
   "id": "74985629",
   "metadata": {},
   "outputs": [
    {
     "data": {
      "text/plain": [
       "PoolQC          99.520548\n",
       "MiscFeature     96.301370\n",
       "Alley           93.767123\n",
       "Fence           80.753425\n",
       "FireplaceQu     47.260274\n",
       "LotFrontage     17.739726\n",
       "GarageYrBlt      5.547945\n",
       "GarageCond       5.547945\n",
       "GarageType       5.547945\n",
       "GarageFinish     5.547945\n",
       "GarageQual       5.547945\n",
       "BsmtExposure     2.602740\n",
       "BsmtFinType2     2.602740\n",
       "BsmtCond         2.534247\n",
       "BsmtQual         2.534247\n",
       "BsmtFinType1     2.534247\n",
       "MasVnrArea       0.547945\n",
       "MasVnrType       0.547945\n",
       "Electrical       0.068493\n",
       "MSSubClass       0.000000\n",
       "dtype: float64"
      ]
     },
     "execution_count": 6,
     "metadata": {},
     "output_type": "execute_result"
    }
   ],
   "source": [
    "# finding the columns having highest number of nulls\n",
    "(100*(df.isnull().sum()/df.shape[0])).sort_values(ascending=False)[:20]"
   ]
  },
  {
   "cell_type": "markdown",
   "id": "0a26afef",
   "metadata": {},
   "source": [
    "#### The above list is consisting of the features with their respective null values in decreasing order of their percentage.\n",
    "\n",
    "#### But according to the data dictionary there are NaNs which are not actually a missing values, the particular entry dosen't have the particular feature, so we will try to fill those NaNs with None. There are some features in which nothing is mention about their NaNs, so those NaNs are missing values."
   ]
  },
  {
   "cell_type": "code",
   "execution_count": 7,
   "id": "b7d3c37c",
   "metadata": {},
   "outputs": [
    {
     "data": {
      "text/html": [
       "<div>\n",
       "<style scoped>\n",
       "    .dataframe tbody tr th:only-of-type {\n",
       "        vertical-align: middle;\n",
       "    }\n",
       "\n",
       "    .dataframe tbody tr th {\n",
       "        vertical-align: top;\n",
       "    }\n",
       "\n",
       "    .dataframe thead th {\n",
       "        text-align: right;\n",
       "    }\n",
       "</style>\n",
       "<table border=\"1\" class=\"dataframe\">\n",
       "  <thead>\n",
       "    <tr style=\"text-align: right;\">\n",
       "      <th></th>\n",
       "      <th>LotFrontage</th>\n",
       "    </tr>\n",
       "  </thead>\n",
       "  <tbody>\n",
       "    <tr>\n",
       "      <th>count</th>\n",
       "      <td>1201.000000</td>\n",
       "    </tr>\n",
       "    <tr>\n",
       "      <th>mean</th>\n",
       "      <td>70.049958</td>\n",
       "    </tr>\n",
       "    <tr>\n",
       "      <th>std</th>\n",
       "      <td>24.284752</td>\n",
       "    </tr>\n",
       "    <tr>\n",
       "      <th>min</th>\n",
       "      <td>21.000000</td>\n",
       "    </tr>\n",
       "    <tr>\n",
       "      <th>25%</th>\n",
       "      <td>59.000000</td>\n",
       "    </tr>\n",
       "    <tr>\n",
       "      <th>50%</th>\n",
       "      <td>69.000000</td>\n",
       "    </tr>\n",
       "    <tr>\n",
       "      <th>75%</th>\n",
       "      <td>80.000000</td>\n",
       "    </tr>\n",
       "    <tr>\n",
       "      <th>max</th>\n",
       "      <td>313.000000</td>\n",
       "    </tr>\n",
       "  </tbody>\n",
       "</table>\n",
       "</div>"
      ],
      "text/plain": [
       "       LotFrontage\n",
       "count  1201.000000\n",
       "mean     70.049958\n",
       "std      24.284752\n",
       "min      21.000000\n",
       "25%      59.000000\n",
       "50%      69.000000\n",
       "75%      80.000000\n",
       "max     313.000000"
      ]
     },
     "execution_count": 7,
     "metadata": {},
     "output_type": "execute_result"
    }
   ],
   "source": [
    "# checking some features for the NaNs values\n",
    "df[['LotFrontage']].describe()\n",
    "\n",
    "#It will give the summary related to the LotFrontage feature"
   ]
  },
  {
   "cell_type": "code",
   "execution_count": 8,
   "id": "280fc4df",
   "metadata": {},
   "outputs": [],
   "source": [
    "# since there is no way of putting some values in place of the NaNs values, dropping the LotFrontage feature\n",
    "df.drop('LotFrontage',axis=1,inplace=True)"
   ]
  },
  {
   "cell_type": "code",
   "execution_count": 9,
   "id": "bb5f9069",
   "metadata": {},
   "outputs": [],
   "source": [
    "#dropping the null values for some features\n",
    "\n",
    "#Electrical\n",
    "df=df[~df.Electrical.isna()]\n",
    "\n",
    "#MasVnrType\n",
    "df=df[~df.MasVnrType.isna()]\n",
    "\n",
    "#MasVnrArea\n",
    "df=df[~df.MasVnrArea.isna()]"
   ]
  },
  {
   "cell_type": "code",
   "execution_count": 10,
   "id": "6e45fa26",
   "metadata": {},
   "outputs": [
    {
     "name": "stdout",
     "output_type": "stream",
     "text": [
      "<class 'pandas.core.frame.DataFrame'>\n",
      "Int64Index: 1451 entries, 0 to 1459\n",
      "Data columns (total 15 columns):\n",
      " #   Column        Non-Null Count  Dtype  \n",
      "---  ------        --------------  -----  \n",
      " 0   Alley         90 non-null     object \n",
      " 1   BsmtQual      1414 non-null   object \n",
      " 2   BsmtCond      1414 non-null   object \n",
      " 3   BsmtExposure  1413 non-null   object \n",
      " 4   BsmtFinType1  1414 non-null   object \n",
      " 5   BsmtFinType2  1413 non-null   object \n",
      " 6   FireplaceQu   766 non-null    object \n",
      " 7   GarageType    1370 non-null   object \n",
      " 8   GarageYrBlt   1370 non-null   float64\n",
      " 9   GarageFinish  1370 non-null   object \n",
      " 10  GarageQual    1370 non-null   object \n",
      " 11  GarageCond    1370 non-null   object \n",
      " 12  PoolQC        7 non-null      object \n",
      " 13  Fence         281 non-null    object \n",
      " 14  MiscFeature   54 non-null     object \n",
      "dtypes: float64(1), object(14)\n",
      "memory usage: 181.4+ KB\n"
     ]
    }
   ],
   "source": [
    "#finding all the features which still has the null values\n",
    "null_features=((df.isna().sum()>0).index)[df.isna().sum()>0]\n",
    "df[null_features].info()"
   ]
  },
  {
   "cell_type": "code",
   "execution_count": 11,
   "id": "f2f8ebfd",
   "metadata": {},
   "outputs": [],
   "source": [
    "# dropping the GarageYrBlt feature as it is the only feature which is numerical and we cannot replace the NaNs values with any values\n",
    "df.drop('GarageYrBlt',axis=1,inplace=True)\n",
    "\n",
    "#remaining features NaNs values can be replaced by the None"
   ]
  },
  {
   "cell_type": "code",
   "execution_count": 12,
   "id": "b5f76914",
   "metadata": {},
   "outputs": [],
   "source": [
    "#filling all the Nan values with None\n",
    "df.fillna('None', inplace=True)"
   ]
  },
  {
   "cell_type": "code",
   "execution_count": 13,
   "id": "6139104f",
   "metadata": {},
   "outputs": [
    {
     "data": {
      "text/plain": [
       "0"
      ]
     },
     "execution_count": 13,
     "metadata": {},
     "output_type": "execute_result"
    }
   ],
   "source": [
    "#checking for Nan values again\n",
    "df.isna().sum().sum()"
   ]
  },
  {
   "cell_type": "markdown",
   "id": "d76bbb04",
   "metadata": {},
   "source": [
    "#### All the Nan values were replaced with None"
   ]
  },
  {
   "cell_type": "code",
   "execution_count": 14,
   "id": "a25458df",
   "metadata": {},
   "outputs": [
    {
     "data": {
      "text/plain": [
       "0"
      ]
     },
     "execution_count": 14,
     "metadata": {},
     "output_type": "execute_result"
    }
   ],
   "source": [
    "#checking for duplicated records\n",
    "df.duplicated().sum()"
   ]
  },
  {
   "cell_type": "markdown",
   "id": "c96d8079",
   "metadata": {},
   "source": [
    "#### It shows that there are no duplicates record in the dataframe"
   ]
  },
  {
   "cell_type": "code",
   "execution_count": 15,
   "id": "9e410e60",
   "metadata": {},
   "outputs": [],
   "source": [
    "# converting features to string\n",
    "df.MSSubClass=df.MSSubClass.astype(str)"
   ]
  },
  {
   "cell_type": "code",
   "execution_count": 16,
   "id": "440babd8",
   "metadata": {},
   "outputs": [
    {
     "name": "stdout",
     "output_type": "stream",
     "text": [
      "<class 'pandas.core.frame.DataFrame'>\n",
      "Int64Index: 1451 entries, 0 to 1459\n",
      "Data columns (total 78 columns):\n",
      " #   Column         Non-Null Count  Dtype  \n",
      "---  ------         --------------  -----  \n",
      " 0   MSSubClass     1451 non-null   object \n",
      " 1   MSZoning       1451 non-null   object \n",
      " 2   LotArea        1451 non-null   int64  \n",
      " 3   Street         1451 non-null   object \n",
      " 4   Alley          1451 non-null   object \n",
      " 5   LotShape       1451 non-null   object \n",
      " 6   LandContour    1451 non-null   object \n",
      " 7   Utilities      1451 non-null   object \n",
      " 8   LotConfig      1451 non-null   object \n",
      " 9   LandSlope      1451 non-null   object \n",
      " 10  Neighborhood   1451 non-null   object \n",
      " 11  Condition1     1451 non-null   object \n",
      " 12  Condition2     1451 non-null   object \n",
      " 13  BldgType       1451 non-null   object \n",
      " 14  HouseStyle     1451 non-null   object \n",
      " 15  OverallQual    1451 non-null   int64  \n",
      " 16  OverallCond    1451 non-null   int64  \n",
      " 17  YearBuilt      1451 non-null   int64  \n",
      " 18  YearRemodAdd   1451 non-null   int64  \n",
      " 19  RoofStyle      1451 non-null   object \n",
      " 20  RoofMatl       1451 non-null   object \n",
      " 21  Exterior1st    1451 non-null   object \n",
      " 22  Exterior2nd    1451 non-null   object \n",
      " 23  MasVnrType     1451 non-null   object \n",
      " 24  MasVnrArea     1451 non-null   float64\n",
      " 25  ExterQual      1451 non-null   object \n",
      " 26  ExterCond      1451 non-null   object \n",
      " 27  Foundation     1451 non-null   object \n",
      " 28  BsmtQual       1451 non-null   object \n",
      " 29  BsmtCond       1451 non-null   object \n",
      " 30  BsmtExposure   1451 non-null   object \n",
      " 31  BsmtFinType1   1451 non-null   object \n",
      " 32  BsmtFinSF1     1451 non-null   int64  \n",
      " 33  BsmtFinType2   1451 non-null   object \n",
      " 34  BsmtFinSF2     1451 non-null   int64  \n",
      " 35  BsmtUnfSF      1451 non-null   int64  \n",
      " 36  TotalBsmtSF    1451 non-null   int64  \n",
      " 37  Heating        1451 non-null   object \n",
      " 38  HeatingQC      1451 non-null   object \n",
      " 39  CentralAir     1451 non-null   object \n",
      " 40  Electrical     1451 non-null   object \n",
      " 41  1stFlrSF       1451 non-null   int64  \n",
      " 42  2ndFlrSF       1451 non-null   int64  \n",
      " 43  LowQualFinSF   1451 non-null   int64  \n",
      " 44  GrLivArea      1451 non-null   int64  \n",
      " 45  BsmtFullBath   1451 non-null   int64  \n",
      " 46  BsmtHalfBath   1451 non-null   int64  \n",
      " 47  FullBath       1451 non-null   int64  \n",
      " 48  HalfBath       1451 non-null   int64  \n",
      " 49  BedroomAbvGr   1451 non-null   int64  \n",
      " 50  KitchenAbvGr   1451 non-null   int64  \n",
      " 51  KitchenQual    1451 non-null   object \n",
      " 52  TotRmsAbvGrd   1451 non-null   int64  \n",
      " 53  Functional     1451 non-null   object \n",
      " 54  Fireplaces     1451 non-null   int64  \n",
      " 55  FireplaceQu    1451 non-null   object \n",
      " 56  GarageType     1451 non-null   object \n",
      " 57  GarageFinish   1451 non-null   object \n",
      " 58  GarageCars     1451 non-null   int64  \n",
      " 59  GarageArea     1451 non-null   int64  \n",
      " 60  GarageQual     1451 non-null   object \n",
      " 61  GarageCond     1451 non-null   object \n",
      " 62  PavedDrive     1451 non-null   object \n",
      " 63  WoodDeckSF     1451 non-null   int64  \n",
      " 64  OpenPorchSF    1451 non-null   int64  \n",
      " 65  EnclosedPorch  1451 non-null   int64  \n",
      " 66  3SsnPorch      1451 non-null   int64  \n",
      " 67  ScreenPorch    1451 non-null   int64  \n",
      " 68  PoolArea       1451 non-null   int64  \n",
      " 69  PoolQC         1451 non-null   object \n",
      " 70  Fence          1451 non-null   object \n",
      " 71  MiscFeature    1451 non-null   object \n",
      " 72  MiscVal        1451 non-null   int64  \n",
      " 73  MoSold         1451 non-null   int64  \n",
      " 74  YrSold         1451 non-null   int64  \n",
      " 75  SaleType       1451 non-null   object \n",
      " 76  SaleCondition  1451 non-null   object \n",
      " 77  SalePrice      1451 non-null   int64  \n",
      "dtypes: float64(1), int64(33), object(44)\n",
      "memory usage: 895.5+ KB\n"
     ]
    }
   ],
   "source": [
    "df.info()"
   ]
  },
  {
   "cell_type": "code",
   "execution_count": 17,
   "id": "dd833210",
   "metadata": {},
   "outputs": [],
   "source": [
    "#Encoding\n",
    "# some of the features having following classes:\n",
    "# Ex=Excellent\n",
    "# Gd=Good\n",
    "# TA=Average/Typical\n",
    "# Fa=Fair\n",
    "# Po=Poor\n",
    "# None=Nan\n",
    "\n",
    "# creating the encoder for this features\n",
    "\n",
    "encode_qual={'None':0, 'Po':1, 'Fa':2, 'TA':3, 'Gd':4, 'Ex':5}\n",
    "encode_path={'None':0, 'Grvl':1, 'Pave':2}\n",
    "encode_utils={'None':0, 'ELO':1, 'NoSeWa':2, 'NoSewr':3, 'AllPub':4}\n",
    "encode_expo={'None':0, 'No':1, 'Mn':2, 'Av':3, 'Gd':4}\n",
    "encode_finish={'GLQ':6, 'ALQ':5, 'BLQ':4, 'Rec':3, 'LwQ':2, 'Unf':1, 'None':0}\n",
    "encode_garage={'None':0, 'Unf':1, 'RFn':2, 'Fin':3}\n",
    "encode_binary={'Y':1, 'N':0}\n",
    "encode_paved={'N':0, 'P':1, 'Y':2}\n",
    "encode_func={'Sal':0, 'Sev':1, 'Maj2':2, 'Maj1':3, 'Mod':4, 'Min2':5, 'Min1': 6, 'Typ':6}\n",
    "encode_fence={'None':0, 'MnWw':1, 'GdWo':2, 'MnPrv':3, 'GdPrv':4}"
   ]
  },
  {
   "cell_type": "code",
   "execution_count": 18,
   "id": "33fe4e39",
   "metadata": {},
   "outputs": [],
   "source": [
    "#applying the encoders to their respective features\n",
    "\n",
    "df.Street=df.Street.map(encode_path)\n",
    "df.Alley=df.Alley.map(encode_path)\n",
    "df.Utilities=df.Utilities.map(encode_utils)\n",
    "df.ExterQual=df.ExterQual.map(encode_qual)\n",
    "df.ExterCond=df.ExterCond.map(encode_qual)\n",
    "df.BsmtQual=df.BsmtQual.map(encode_qual)\n",
    "df.BsmtCond=df.BsmtCond.map(encode_qual)\n",
    "df.BsmtExposure=df.BsmtExposure.map(encode_expo)\n",
    "df.BsmtFinType1=df.BsmtFinType1.map(encode_finish)\n",
    "df.BsmtFinType2=df.BsmtFinType2.map(encode_finish)\n",
    "df.HeatingQC=df.HeatingQC.map(encode_qual)\n",
    "df.CentralAir=df.CentralAir.map(encode_binary)\n",
    "df.KitchenQual=df.KitchenQual.map(encode_qual)\n",
    "df.Functional=df.Functional.map(encode_func)\n",
    "df.FireplaceQu=df.FireplaceQu.map(encode_qual)\n",
    "df.GarageFinish=df.GarageFinish.map(encode_garage)\n",
    "df.GarageQual=df.GarageQual.map(encode_qual)\n",
    "df.GarageCond=df.GarageCond.map(encode_qual)\n",
    "df.PavedDrive=df.PavedDrive.map(encode_paved)\n",
    "df.PoolQC=df.PoolQC.map(encode_qual)\n",
    "df.Fence=df.Fence.map(encode_fence)"
   ]
  },
  {
   "cell_type": "code",
   "execution_count": 19,
   "id": "017f204a",
   "metadata": {},
   "outputs": [
    {
     "data": {
      "text/html": [
       "<div>\n",
       "<style scoped>\n",
       "    .dataframe tbody tr th:only-of-type {\n",
       "        vertical-align: middle;\n",
       "    }\n",
       "\n",
       "    .dataframe tbody tr th {\n",
       "        vertical-align: top;\n",
       "    }\n",
       "\n",
       "    .dataframe thead th {\n",
       "        text-align: right;\n",
       "    }\n",
       "</style>\n",
       "<table border=\"1\" class=\"dataframe\">\n",
       "  <thead>\n",
       "    <tr style=\"text-align: right;\">\n",
       "      <th></th>\n",
       "      <th>MSSubClass</th>\n",
       "      <th>MSZoning</th>\n",
       "      <th>LotShape</th>\n",
       "      <th>LandContour</th>\n",
       "      <th>LotConfig</th>\n",
       "      <th>LandSlope</th>\n",
       "      <th>Neighborhood</th>\n",
       "      <th>Condition1</th>\n",
       "      <th>Condition2</th>\n",
       "      <th>BldgType</th>\n",
       "      <th>...</th>\n",
       "      <th>Exterior1st</th>\n",
       "      <th>Exterior2nd</th>\n",
       "      <th>MasVnrType</th>\n",
       "      <th>Foundation</th>\n",
       "      <th>Heating</th>\n",
       "      <th>Electrical</th>\n",
       "      <th>GarageType</th>\n",
       "      <th>MiscFeature</th>\n",
       "      <th>SaleType</th>\n",
       "      <th>SaleCondition</th>\n",
       "    </tr>\n",
       "  </thead>\n",
       "  <tbody>\n",
       "    <tr>\n",
       "      <th>0</th>\n",
       "      <td>60</td>\n",
       "      <td>RL</td>\n",
       "      <td>Reg</td>\n",
       "      <td>Lvl</td>\n",
       "      <td>Inside</td>\n",
       "      <td>Gtl</td>\n",
       "      <td>CollgCr</td>\n",
       "      <td>Norm</td>\n",
       "      <td>Norm</td>\n",
       "      <td>1Fam</td>\n",
       "      <td>...</td>\n",
       "      <td>VinylSd</td>\n",
       "      <td>VinylSd</td>\n",
       "      <td>BrkFace</td>\n",
       "      <td>PConc</td>\n",
       "      <td>GasA</td>\n",
       "      <td>SBrkr</td>\n",
       "      <td>Attchd</td>\n",
       "      <td>None</td>\n",
       "      <td>WD</td>\n",
       "      <td>Normal</td>\n",
       "    </tr>\n",
       "    <tr>\n",
       "      <th>1</th>\n",
       "      <td>20</td>\n",
       "      <td>RL</td>\n",
       "      <td>Reg</td>\n",
       "      <td>Lvl</td>\n",
       "      <td>FR2</td>\n",
       "      <td>Gtl</td>\n",
       "      <td>Veenker</td>\n",
       "      <td>Feedr</td>\n",
       "      <td>Norm</td>\n",
       "      <td>1Fam</td>\n",
       "      <td>...</td>\n",
       "      <td>MetalSd</td>\n",
       "      <td>MetalSd</td>\n",
       "      <td>None</td>\n",
       "      <td>CBlock</td>\n",
       "      <td>GasA</td>\n",
       "      <td>SBrkr</td>\n",
       "      <td>Attchd</td>\n",
       "      <td>None</td>\n",
       "      <td>WD</td>\n",
       "      <td>Normal</td>\n",
       "    </tr>\n",
       "    <tr>\n",
       "      <th>2</th>\n",
       "      <td>60</td>\n",
       "      <td>RL</td>\n",
       "      <td>IR1</td>\n",
       "      <td>Lvl</td>\n",
       "      <td>Inside</td>\n",
       "      <td>Gtl</td>\n",
       "      <td>CollgCr</td>\n",
       "      <td>Norm</td>\n",
       "      <td>Norm</td>\n",
       "      <td>1Fam</td>\n",
       "      <td>...</td>\n",
       "      <td>VinylSd</td>\n",
       "      <td>VinylSd</td>\n",
       "      <td>BrkFace</td>\n",
       "      <td>PConc</td>\n",
       "      <td>GasA</td>\n",
       "      <td>SBrkr</td>\n",
       "      <td>Attchd</td>\n",
       "      <td>None</td>\n",
       "      <td>WD</td>\n",
       "      <td>Normal</td>\n",
       "    </tr>\n",
       "    <tr>\n",
       "      <th>3</th>\n",
       "      <td>70</td>\n",
       "      <td>RL</td>\n",
       "      <td>IR1</td>\n",
       "      <td>Lvl</td>\n",
       "      <td>Corner</td>\n",
       "      <td>Gtl</td>\n",
       "      <td>Crawfor</td>\n",
       "      <td>Norm</td>\n",
       "      <td>Norm</td>\n",
       "      <td>1Fam</td>\n",
       "      <td>...</td>\n",
       "      <td>Wd Sdng</td>\n",
       "      <td>Wd Shng</td>\n",
       "      <td>None</td>\n",
       "      <td>BrkTil</td>\n",
       "      <td>GasA</td>\n",
       "      <td>SBrkr</td>\n",
       "      <td>Detchd</td>\n",
       "      <td>None</td>\n",
       "      <td>WD</td>\n",
       "      <td>Abnorml</td>\n",
       "    </tr>\n",
       "    <tr>\n",
       "      <th>4</th>\n",
       "      <td>60</td>\n",
       "      <td>RL</td>\n",
       "      <td>IR1</td>\n",
       "      <td>Lvl</td>\n",
       "      <td>FR2</td>\n",
       "      <td>Gtl</td>\n",
       "      <td>NoRidge</td>\n",
       "      <td>Norm</td>\n",
       "      <td>Norm</td>\n",
       "      <td>1Fam</td>\n",
       "      <td>...</td>\n",
       "      <td>VinylSd</td>\n",
       "      <td>VinylSd</td>\n",
       "      <td>BrkFace</td>\n",
       "      <td>PConc</td>\n",
       "      <td>GasA</td>\n",
       "      <td>SBrkr</td>\n",
       "      <td>Attchd</td>\n",
       "      <td>None</td>\n",
       "      <td>WD</td>\n",
       "      <td>Normal</td>\n",
       "    </tr>\n",
       "  </tbody>\n",
       "</table>\n",
       "<p>5 rows × 23 columns</p>\n",
       "</div>"
      ],
      "text/plain": [
       "  MSSubClass MSZoning LotShape LandContour LotConfig LandSlope Neighborhood  \\\n",
       "0         60       RL      Reg         Lvl    Inside       Gtl      CollgCr   \n",
       "1         20       RL      Reg         Lvl       FR2       Gtl      Veenker   \n",
       "2         60       RL      IR1         Lvl    Inside       Gtl      CollgCr   \n",
       "3         70       RL      IR1         Lvl    Corner       Gtl      Crawfor   \n",
       "4         60       RL      IR1         Lvl       FR2       Gtl      NoRidge   \n",
       "\n",
       "  Condition1 Condition2 BldgType  ... Exterior1st Exterior2nd MasVnrType  \\\n",
       "0       Norm       Norm     1Fam  ...     VinylSd     VinylSd    BrkFace   \n",
       "1      Feedr       Norm     1Fam  ...     MetalSd     MetalSd       None   \n",
       "2       Norm       Norm     1Fam  ...     VinylSd     VinylSd    BrkFace   \n",
       "3       Norm       Norm     1Fam  ...     Wd Sdng     Wd Shng       None   \n",
       "4       Norm       Norm     1Fam  ...     VinylSd     VinylSd    BrkFace   \n",
       "\n",
       "  Foundation Heating Electrical GarageType MiscFeature SaleType SaleCondition  \n",
       "0      PConc    GasA      SBrkr     Attchd        None       WD        Normal  \n",
       "1     CBlock    GasA      SBrkr     Attchd        None       WD        Normal  \n",
       "2      PConc    GasA      SBrkr     Attchd        None       WD        Normal  \n",
       "3     BrkTil    GasA      SBrkr     Detchd        None       WD       Abnorml  \n",
       "4      PConc    GasA      SBrkr     Attchd        None       WD        Normal  \n",
       "\n",
       "[5 rows x 23 columns]"
      ]
     },
     "execution_count": 19,
     "metadata": {},
     "output_type": "execute_result"
    }
   ],
   "source": [
    "#finding all the columns with object datatype\n",
    "\n",
    "object_cols=df.select_dtypes('object')\n",
    "object_cols.head()"
   ]
  },
  {
   "cell_type": "code",
   "execution_count": 20,
   "id": "92e8ed7c",
   "metadata": {},
   "outputs": [
    {
     "data": {
      "text/html": [
       "<div>\n",
       "<style scoped>\n",
       "    .dataframe tbody tr th:only-of-type {\n",
       "        vertical-align: middle;\n",
       "    }\n",
       "\n",
       "    .dataframe tbody tr th {\n",
       "        vertical-align: top;\n",
       "    }\n",
       "\n",
       "    .dataframe thead th {\n",
       "        text-align: right;\n",
       "    }\n",
       "</style>\n",
       "<table border=\"1\" class=\"dataframe\">\n",
       "  <thead>\n",
       "    <tr style=\"text-align: right;\">\n",
       "      <th></th>\n",
       "      <th>MSSubClass_160</th>\n",
       "      <th>MSSubClass_180</th>\n",
       "      <th>MSSubClass_190</th>\n",
       "      <th>MSSubClass_20</th>\n",
       "      <th>MSSubClass_30</th>\n",
       "      <th>MSSubClass_40</th>\n",
       "      <th>MSSubClass_45</th>\n",
       "      <th>MSSubClass_50</th>\n",
       "      <th>MSSubClass_60</th>\n",
       "      <th>MSSubClass_70</th>\n",
       "      <th>...</th>\n",
       "      <th>SaleType_ConLI</th>\n",
       "      <th>SaleType_ConLw</th>\n",
       "      <th>SaleType_New</th>\n",
       "      <th>SaleType_Oth</th>\n",
       "      <th>SaleType_WD</th>\n",
       "      <th>SaleCondition_AdjLand</th>\n",
       "      <th>SaleCondition_Alloca</th>\n",
       "      <th>SaleCondition_Family</th>\n",
       "      <th>SaleCondition_Normal</th>\n",
       "      <th>SaleCondition_Partial</th>\n",
       "    </tr>\n",
       "  </thead>\n",
       "  <tbody>\n",
       "    <tr>\n",
       "      <th>0</th>\n",
       "      <td>0</td>\n",
       "      <td>0</td>\n",
       "      <td>0</td>\n",
       "      <td>0</td>\n",
       "      <td>0</td>\n",
       "      <td>0</td>\n",
       "      <td>0</td>\n",
       "      <td>0</td>\n",
       "      <td>1</td>\n",
       "      <td>0</td>\n",
       "      <td>...</td>\n",
       "      <td>0</td>\n",
       "      <td>0</td>\n",
       "      <td>0</td>\n",
       "      <td>0</td>\n",
       "      <td>1</td>\n",
       "      <td>0</td>\n",
       "      <td>0</td>\n",
       "      <td>0</td>\n",
       "      <td>1</td>\n",
       "      <td>0</td>\n",
       "    </tr>\n",
       "    <tr>\n",
       "      <th>1</th>\n",
       "      <td>0</td>\n",
       "      <td>0</td>\n",
       "      <td>0</td>\n",
       "      <td>1</td>\n",
       "      <td>0</td>\n",
       "      <td>0</td>\n",
       "      <td>0</td>\n",
       "      <td>0</td>\n",
       "      <td>0</td>\n",
       "      <td>0</td>\n",
       "      <td>...</td>\n",
       "      <td>0</td>\n",
       "      <td>0</td>\n",
       "      <td>0</td>\n",
       "      <td>0</td>\n",
       "      <td>1</td>\n",
       "      <td>0</td>\n",
       "      <td>0</td>\n",
       "      <td>0</td>\n",
       "      <td>1</td>\n",
       "      <td>0</td>\n",
       "    </tr>\n",
       "    <tr>\n",
       "      <th>2</th>\n",
       "      <td>0</td>\n",
       "      <td>0</td>\n",
       "      <td>0</td>\n",
       "      <td>0</td>\n",
       "      <td>0</td>\n",
       "      <td>0</td>\n",
       "      <td>0</td>\n",
       "      <td>0</td>\n",
       "      <td>1</td>\n",
       "      <td>0</td>\n",
       "      <td>...</td>\n",
       "      <td>0</td>\n",
       "      <td>0</td>\n",
       "      <td>0</td>\n",
       "      <td>0</td>\n",
       "      <td>1</td>\n",
       "      <td>0</td>\n",
       "      <td>0</td>\n",
       "      <td>0</td>\n",
       "      <td>1</td>\n",
       "      <td>0</td>\n",
       "    </tr>\n",
       "    <tr>\n",
       "      <th>3</th>\n",
       "      <td>0</td>\n",
       "      <td>0</td>\n",
       "      <td>0</td>\n",
       "      <td>0</td>\n",
       "      <td>0</td>\n",
       "      <td>0</td>\n",
       "      <td>0</td>\n",
       "      <td>0</td>\n",
       "      <td>0</td>\n",
       "      <td>1</td>\n",
       "      <td>...</td>\n",
       "      <td>0</td>\n",
       "      <td>0</td>\n",
       "      <td>0</td>\n",
       "      <td>0</td>\n",
       "      <td>1</td>\n",
       "      <td>0</td>\n",
       "      <td>0</td>\n",
       "      <td>0</td>\n",
       "      <td>0</td>\n",
       "      <td>0</td>\n",
       "    </tr>\n",
       "    <tr>\n",
       "      <th>4</th>\n",
       "      <td>0</td>\n",
       "      <td>0</td>\n",
       "      <td>0</td>\n",
       "      <td>0</td>\n",
       "      <td>0</td>\n",
       "      <td>0</td>\n",
       "      <td>0</td>\n",
       "      <td>0</td>\n",
       "      <td>1</td>\n",
       "      <td>0</td>\n",
       "      <td>...</td>\n",
       "      <td>0</td>\n",
       "      <td>0</td>\n",
       "      <td>0</td>\n",
       "      <td>0</td>\n",
       "      <td>1</td>\n",
       "      <td>0</td>\n",
       "      <td>0</td>\n",
       "      <td>0</td>\n",
       "      <td>1</td>\n",
       "      <td>0</td>\n",
       "    </tr>\n",
       "  </tbody>\n",
       "</table>\n",
       "<p>5 rows × 161 columns</p>\n",
       "</div>"
      ],
      "text/plain": [
       "   MSSubClass_160  MSSubClass_180  MSSubClass_190  MSSubClass_20  \\\n",
       "0               0               0               0              0   \n",
       "1               0               0               0              1   \n",
       "2               0               0               0              0   \n",
       "3               0               0               0              0   \n",
       "4               0               0               0              0   \n",
       "\n",
       "   MSSubClass_30  MSSubClass_40  MSSubClass_45  MSSubClass_50  MSSubClass_60  \\\n",
       "0              0              0              0              0              1   \n",
       "1              0              0              0              0              0   \n",
       "2              0              0              0              0              1   \n",
       "3              0              0              0              0              0   \n",
       "4              0              0              0              0              1   \n",
       "\n",
       "   MSSubClass_70  ...  SaleType_ConLI  SaleType_ConLw  SaleType_New  \\\n",
       "0              0  ...               0               0             0   \n",
       "1              0  ...               0               0             0   \n",
       "2              0  ...               0               0             0   \n",
       "3              1  ...               0               0             0   \n",
       "4              0  ...               0               0             0   \n",
       "\n",
       "   SaleType_Oth  SaleType_WD  SaleCondition_AdjLand  SaleCondition_Alloca  \\\n",
       "0             0            1                      0                     0   \n",
       "1             0            1                      0                     0   \n",
       "2             0            1                      0                     0   \n",
       "3             0            1                      0                     0   \n",
       "4             0            1                      0                     0   \n",
       "\n",
       "   SaleCondition_Family  SaleCondition_Normal  SaleCondition_Partial  \n",
       "0                     0                     1                      0  \n",
       "1                     0                     1                      0  \n",
       "2                     0                     1                      0  \n",
       "3                     0                     0                      0  \n",
       "4                     0                     1                      0  \n",
       "\n",
       "[5 rows x 161 columns]"
      ]
     },
     "execution_count": 20,
     "metadata": {},
     "output_type": "execute_result"
    }
   ],
   "source": [
    "#apply the dummies on the above finded columns\n",
    "\n",
    "df_ohe=pd.get_dummies(object_cols, drop_first=True)\n",
    "df_ohe.head()"
   ]
  },
  {
   "cell_type": "code",
   "execution_count": 21,
   "id": "58d87350",
   "metadata": {},
   "outputs": [],
   "source": [
    "#dropping the one-hot encoded features from the dataframe\n",
    "\n",
    "df.drop(object_cols.columns, axis=1, inplace=True)"
   ]
  },
  {
   "cell_type": "code",
   "execution_count": 22,
   "id": "39f069a7",
   "metadata": {},
   "outputs": [
    {
     "data": {
      "text/html": [
       "<div>\n",
       "<style scoped>\n",
       "    .dataframe tbody tr th:only-of-type {\n",
       "        vertical-align: middle;\n",
       "    }\n",
       "\n",
       "    .dataframe tbody tr th {\n",
       "        vertical-align: top;\n",
       "    }\n",
       "\n",
       "    .dataframe thead th {\n",
       "        text-align: right;\n",
       "    }\n",
       "</style>\n",
       "<table border=\"1\" class=\"dataframe\">\n",
       "  <thead>\n",
       "    <tr style=\"text-align: right;\">\n",
       "      <th></th>\n",
       "      <th>LotArea</th>\n",
       "      <th>Street</th>\n",
       "      <th>Alley</th>\n",
       "      <th>Utilities</th>\n",
       "      <th>OverallQual</th>\n",
       "      <th>OverallCond</th>\n",
       "      <th>YearBuilt</th>\n",
       "      <th>YearRemodAdd</th>\n",
       "      <th>MasVnrArea</th>\n",
       "      <th>ExterQual</th>\n",
       "      <th>...</th>\n",
       "      <th>SaleType_ConLI</th>\n",
       "      <th>SaleType_ConLw</th>\n",
       "      <th>SaleType_New</th>\n",
       "      <th>SaleType_Oth</th>\n",
       "      <th>SaleType_WD</th>\n",
       "      <th>SaleCondition_AdjLand</th>\n",
       "      <th>SaleCondition_Alloca</th>\n",
       "      <th>SaleCondition_Family</th>\n",
       "      <th>SaleCondition_Normal</th>\n",
       "      <th>SaleCondition_Partial</th>\n",
       "    </tr>\n",
       "  </thead>\n",
       "  <tbody>\n",
       "    <tr>\n",
       "      <th>0</th>\n",
       "      <td>8450</td>\n",
       "      <td>2</td>\n",
       "      <td>0</td>\n",
       "      <td>4</td>\n",
       "      <td>7</td>\n",
       "      <td>5</td>\n",
       "      <td>2003</td>\n",
       "      <td>2003</td>\n",
       "      <td>196.0</td>\n",
       "      <td>4</td>\n",
       "      <td>...</td>\n",
       "      <td>0</td>\n",
       "      <td>0</td>\n",
       "      <td>0</td>\n",
       "      <td>0</td>\n",
       "      <td>1</td>\n",
       "      <td>0</td>\n",
       "      <td>0</td>\n",
       "      <td>0</td>\n",
       "      <td>1</td>\n",
       "      <td>0</td>\n",
       "    </tr>\n",
       "    <tr>\n",
       "      <th>1</th>\n",
       "      <td>9600</td>\n",
       "      <td>2</td>\n",
       "      <td>0</td>\n",
       "      <td>4</td>\n",
       "      <td>6</td>\n",
       "      <td>8</td>\n",
       "      <td>1976</td>\n",
       "      <td>1976</td>\n",
       "      <td>0.0</td>\n",
       "      <td>3</td>\n",
       "      <td>...</td>\n",
       "      <td>0</td>\n",
       "      <td>0</td>\n",
       "      <td>0</td>\n",
       "      <td>0</td>\n",
       "      <td>1</td>\n",
       "      <td>0</td>\n",
       "      <td>0</td>\n",
       "      <td>0</td>\n",
       "      <td>1</td>\n",
       "      <td>0</td>\n",
       "    </tr>\n",
       "    <tr>\n",
       "      <th>2</th>\n",
       "      <td>11250</td>\n",
       "      <td>2</td>\n",
       "      <td>0</td>\n",
       "      <td>4</td>\n",
       "      <td>7</td>\n",
       "      <td>5</td>\n",
       "      <td>2001</td>\n",
       "      <td>2002</td>\n",
       "      <td>162.0</td>\n",
       "      <td>4</td>\n",
       "      <td>...</td>\n",
       "      <td>0</td>\n",
       "      <td>0</td>\n",
       "      <td>0</td>\n",
       "      <td>0</td>\n",
       "      <td>1</td>\n",
       "      <td>0</td>\n",
       "      <td>0</td>\n",
       "      <td>0</td>\n",
       "      <td>1</td>\n",
       "      <td>0</td>\n",
       "    </tr>\n",
       "    <tr>\n",
       "      <th>3</th>\n",
       "      <td>9550</td>\n",
       "      <td>2</td>\n",
       "      <td>0</td>\n",
       "      <td>4</td>\n",
       "      <td>7</td>\n",
       "      <td>5</td>\n",
       "      <td>1915</td>\n",
       "      <td>1970</td>\n",
       "      <td>0.0</td>\n",
       "      <td>3</td>\n",
       "      <td>...</td>\n",
       "      <td>0</td>\n",
       "      <td>0</td>\n",
       "      <td>0</td>\n",
       "      <td>0</td>\n",
       "      <td>1</td>\n",
       "      <td>0</td>\n",
       "      <td>0</td>\n",
       "      <td>0</td>\n",
       "      <td>0</td>\n",
       "      <td>0</td>\n",
       "    </tr>\n",
       "    <tr>\n",
       "      <th>4</th>\n",
       "      <td>14260</td>\n",
       "      <td>2</td>\n",
       "      <td>0</td>\n",
       "      <td>4</td>\n",
       "      <td>8</td>\n",
       "      <td>5</td>\n",
       "      <td>2000</td>\n",
       "      <td>2000</td>\n",
       "      <td>350.0</td>\n",
       "      <td>4</td>\n",
       "      <td>...</td>\n",
       "      <td>0</td>\n",
       "      <td>0</td>\n",
       "      <td>0</td>\n",
       "      <td>0</td>\n",
       "      <td>1</td>\n",
       "      <td>0</td>\n",
       "      <td>0</td>\n",
       "      <td>0</td>\n",
       "      <td>1</td>\n",
       "      <td>0</td>\n",
       "    </tr>\n",
       "  </tbody>\n",
       "</table>\n",
       "<p>5 rows × 216 columns</p>\n",
       "</div>"
      ],
      "text/plain": [
       "   LotArea  Street  Alley  Utilities  OverallQual  OverallCond  YearBuilt  \\\n",
       "0     8450       2      0          4            7            5       2003   \n",
       "1     9600       2      0          4            6            8       1976   \n",
       "2    11250       2      0          4            7            5       2001   \n",
       "3     9550       2      0          4            7            5       1915   \n",
       "4    14260       2      0          4            8            5       2000   \n",
       "\n",
       "   YearRemodAdd  MasVnrArea  ExterQual  ...  SaleType_ConLI  SaleType_ConLw  \\\n",
       "0          2003       196.0          4  ...               0               0   \n",
       "1          1976         0.0          3  ...               0               0   \n",
       "2          2002       162.0          4  ...               0               0   \n",
       "3          1970         0.0          3  ...               0               0   \n",
       "4          2000       350.0          4  ...               0               0   \n",
       "\n",
       "   SaleType_New  SaleType_Oth  SaleType_WD  SaleCondition_AdjLand  \\\n",
       "0             0             0            1                      0   \n",
       "1             0             0            1                      0   \n",
       "2             0             0            1                      0   \n",
       "3             0             0            1                      0   \n",
       "4             0             0            1                      0   \n",
       "\n",
       "   SaleCondition_Alloca  SaleCondition_Family  SaleCondition_Normal  \\\n",
       "0                     0                     0                     1   \n",
       "1                     0                     0                     1   \n",
       "2                     0                     0                     1   \n",
       "3                     0                     0                     0   \n",
       "4                     0                     0                     1   \n",
       "\n",
       "   SaleCondition_Partial  \n",
       "0                      0  \n",
       "1                      0  \n",
       "2                      0  \n",
       "3                      0  \n",
       "4                      0  \n",
       "\n",
       "[5 rows x 216 columns]"
      ]
     },
     "execution_count": 22,
     "metadata": {},
     "output_type": "execute_result"
    }
   ],
   "source": [
    "#connecting the df_ohe and main df dataframe\n",
    "\n",
    "df=pd.concat([df, df_ohe], axis=1)\n",
    "df.head()"
   ]
  },
  {
   "cell_type": "code",
   "execution_count": 23,
   "id": "efc82fb0",
   "metadata": {},
   "outputs": [
    {
     "data": {
      "image/png": "[encoded data removed]",
      "text/plain": [
       "<Figure size 1200x800 with 2 Axes>"
      ]
     },
     "metadata": {
      "needs_background": "light"
     },
     "output_type": "display_data"
    }
   ],
   "source": [
    "#finding correlation between some of the important features\n",
    "plt.figure(dpi=200)\n",
    "sns.heatmap(df[['LotArea', 'OverallQual', 'OverallCond', 'YearBuilt', 'SalePrice']].corr(), annot=True, cmap='viridis_r');"
   ]
  },
  {
   "cell_type": "code",
   "execution_count": 24,
   "id": "31c780c2",
   "metadata": {},
   "outputs": [
    {
     "data": {
      "image/png": "[encoded data removed]",
      "text/plain": [
       "<Figure size 400x1200 with 2 Axes>"
      ]
     },
     "metadata": {
      "needs_background": "light"
     },
     "output_type": "display_data"
    }
   ],
   "source": [
    "#finding correlation between different neighbourhoods\n",
    "\n",
    "neigh=[]\n",
    "for col in df.columns:\n",
    "    if col[:2]=='Ne':\n",
    "        neigh.append(col)\n",
    "neigh.append('SalePrice')\n",
    "plt.figure(dpi=200, figsize=(2,6))\n",
    "myneigh=(df[neigh].corr())[['SalePrice']]\n",
    "sns.heatmap(myneigh, annot=True, cmap='viridis_r');"
   ]
  },
  {
   "cell_type": "code",
   "execution_count": 25,
   "id": "87dab6b5",
   "metadata": {},
   "outputs": [
    {
     "data": {
      "image/png": "[encoded data removed]",
      "text/plain": [
       "<Figure size 1200x800 with 1 Axes>"
      ]
     },
     "metadata": {
      "needs_background": "light"
     },
     "output_type": "display_data"
    }
   ],
   "source": [
    "#correlation between PoolQc and SalePrice\n",
    "plt.figure(dpi=200)\n",
    "sns.barplot(x=df.PoolQC, y=df.SalePrice);"
   ]
  },
  {
   "cell_type": "code",
   "execution_count": 26,
   "id": "f384e7d1",
   "metadata": {},
   "outputs": [],
   "source": [
    "from sklearn.model_selection import train_test_split"
   ]
  },
  {
   "cell_type": "code",
   "execution_count": 27,
   "id": "83d796d2",
   "metadata": {},
   "outputs": [],
   "source": [
    "X_full=df.drop('SalePrice',axis=1)\n",
    "y_full=np.log10(df.SalePrice)\n",
    "\n",
    "# holding some percentage of dataset\n",
    "X, X_hold, y, y_hold=train_test_split(X_full, y_full, test_size=0.1, random_state=1106)"
   ]
  },
  {
   "cell_type": "code",
   "execution_count": 28,
   "id": "99a98c05",
   "metadata": {},
   "outputs": [],
   "source": [
    "from sklearn.preprocessing import StandardScaler\n",
    "from sklearn.linear_model import Ridge, Lasso\n",
    "from sklearn.pipeline import Pipeline"
   ]
  },
  {
   "cell_type": "code",
   "execution_count": 29,
   "id": "39f75e25",
   "metadata": {},
   "outputs": [],
   "source": [
    "#StandardScaler\n",
    "scale=StandardScaler()"
   ]
  },
  {
   "cell_type": "code",
   "execution_count": 30,
   "id": "4335e931",
   "metadata": {},
   "outputs": [],
   "source": [
    "#Ridge object\n",
    "l2_norm=Ridge()"
   ]
  },
  {
   "cell_type": "code",
   "execution_count": 31,
   "id": "31408a30",
   "metadata": {},
   "outputs": [],
   "source": [
    "#Lasso object\n",
    "l1_norm=Lasso()"
   ]
  },
  {
   "cell_type": "code",
   "execution_count": 32,
   "id": "565c0c83",
   "metadata": {},
   "outputs": [],
   "source": [
    "operation1=[('scale',scale),('l2_norm',l2_norm)]\n",
    "operation2=[('scale',scale),('l1_norm',l1_norm)]"
   ]
  },
  {
   "cell_type": "code",
   "execution_count": 33,
   "id": "6ac90153",
   "metadata": {},
   "outputs": [],
   "source": [
    "pipe1=Pipeline(steps=operation1)\n",
    "pipe2=Pipeline(steps=operation2)"
   ]
  },
  {
   "cell_type": "code",
   "execution_count": 34,
   "id": "45f403c3",
   "metadata": {},
   "outputs": [],
   "source": [
    "from sklearn.model_selection import GridSearchCV"
   ]
  },
  {
   "cell_type": "code",
   "execution_count": 35,
   "id": "29bd04ad",
   "metadata": {},
   "outputs": [],
   "source": [
    "#creating ridge model\n",
    "param_ridge={'l2_norm__alpha':np.logspace(2.65,2.7,100)}"
   ]
  },
  {
   "cell_type": "code",
   "execution_count": 36,
   "id": "2829e1aa",
   "metadata": {},
   "outputs": [],
   "source": [
    "grid_ridge=GridSearchCV(estimator=pipe1, param_grid=param_ridge, cv=5, scoring='r2', return_train_score=True)"
   ]
  },
  {
   "cell_type": "code",
   "execution_count": 37,
   "id": "d4a8217b",
   "metadata": {},
   "outputs": [
    {
     "data": {
      "text/plain": [
       "GridSearchCV(cv=5,\n",
       "             estimator=Pipeline(steps=[('scale', StandardScaler()),\n",
       "                                       ('l2_norm', Ridge())]),\n",
       "             param_grid={'l2_norm__alpha': array([446.68359215, 447.20335238, 447.72371741, 448.24468793,\n",
       "       448.76626465, 449.28844828, 449.81123952, 450.33463907,\n",
       "       450.85864766, 451.38326598, 451.90849474, 452.43433466,\n",
       "       452.96078645, 453.48785081, 454.01552847, 454.54382013,\n",
       "       455.07272651,...\n",
       "       487.95956827, 488.52735715, 489.09580672, 489.66491773,\n",
       "       490.23469095, 490.80512717, 491.37622714, 491.94799164,\n",
       "       492.52042145, 493.09351733, 493.66728007, 494.24171044,\n",
       "       494.81680922, 495.39257717, 495.96901509, 496.54612376,\n",
       "       497.12390394, 497.70235643, 498.28148201, 498.86128145,\n",
       "       499.44175555, 500.02290509, 500.60473085, 501.18723363])},\n",
       "             return_train_score=True, scoring='r2')"
      ]
     },
     "execution_count": 37,
     "metadata": {},
     "output_type": "execute_result"
    }
   ],
   "source": [
    "grid_ridge.fit(X,y)"
   ]
  },
  {
   "cell_type": "code",
   "execution_count": 38,
   "id": "76a71c93",
   "metadata": {},
   "outputs": [
    {
     "data": {
      "text/plain": [
       "Pipeline(steps=[('scale', StandardScaler()),\n",
       "                ('l2_norm', Ridge(alpha=477.8514732339196))])"
      ]
     },
     "execution_count": 38,
     "metadata": {},
     "output_type": "execute_result"
    }
   ],
   "source": [
    "grid_ridge.best_estimator_"
   ]
  },
  {
   "cell_type": "code",
   "execution_count": 39,
   "id": "ec8e0547",
   "metadata": {},
   "outputs": [
    {
     "data": {
      "text/html": [
       "<div>\n",
       "<style scoped>\n",
       "    .dataframe tbody tr th:only-of-type {\n",
       "        vertical-align: middle;\n",
       "    }\n",
       "\n",
       "    .dataframe tbody tr th {\n",
       "        vertical-align: top;\n",
       "    }\n",
       "\n",
       "    .dataframe thead th {\n",
       "        text-align: right;\n",
       "    }\n",
       "</style>\n",
       "<table border=\"1\" class=\"dataframe\">\n",
       "  <thead>\n",
       "    <tr style=\"text-align: right;\">\n",
       "      <th></th>\n",
       "      <th>mean_fit_time</th>\n",
       "      <th>std_fit_time</th>\n",
       "      <th>mean_score_time</th>\n",
       "      <th>std_score_time</th>\n",
       "      <th>param_l2_norm__alpha</th>\n",
       "      <th>params</th>\n",
       "      <th>split0_test_score</th>\n",
       "      <th>split1_test_score</th>\n",
       "      <th>split2_test_score</th>\n",
       "      <th>split3_test_score</th>\n",
       "      <th>...</th>\n",
       "      <th>mean_test_score</th>\n",
       "      <th>std_test_score</th>\n",
       "      <th>rank_test_score</th>\n",
       "      <th>split0_train_score</th>\n",
       "      <th>split1_train_score</th>\n",
       "      <th>split2_train_score</th>\n",
       "      <th>split3_train_score</th>\n",
       "      <th>split4_train_score</th>\n",
       "      <th>mean_train_score</th>\n",
       "      <th>std_train_score</th>\n",
       "    </tr>\n",
       "  </thead>\n",
       "  <tbody>\n",
       "    <tr>\n",
       "      <th>0</th>\n",
       "      <td>0.011772</td>\n",
       "      <td>0.006130</td>\n",
       "      <td>0.005514</td>\n",
       "      <td>0.005053</td>\n",
       "      <td>446.683592</td>\n",
       "      <td>{'l2_norm__alpha': 446.683592150963}</td>\n",
       "      <td>0.848970</td>\n",
       "      <td>0.905281</td>\n",
       "      <td>0.885784</td>\n",
       "      <td>0.918042</td>\n",
       "      <td>...</td>\n",
       "      <td>0.869619</td>\n",
       "      <td>0.046131</td>\n",
       "      <td>100</td>\n",
       "      <td>0.919506</td>\n",
       "      <td>0.907248</td>\n",
       "      <td>0.913138</td>\n",
       "      <td>0.906599</td>\n",
       "      <td>0.928203</td>\n",
       "      <td>0.914939</td>\n",
       "      <td>0.008108</td>\n",
       "    </tr>\n",
       "    <tr>\n",
       "      <th>1</th>\n",
       "      <td>0.012576</td>\n",
       "      <td>0.006456</td>\n",
       "      <td>0.003124</td>\n",
       "      <td>0.006248</td>\n",
       "      <td>447.203352</td>\n",
       "      <td>{'l2_norm__alpha': 447.20335238362566}</td>\n",
       "      <td>0.848971</td>\n",
       "      <td>0.905270</td>\n",
       "      <td>0.885788</td>\n",
       "      <td>0.918042</td>\n",
       "      <td>...</td>\n",
       "      <td>0.869620</td>\n",
       "      <td>0.046126</td>\n",
       "      <td>99</td>\n",
       "      <td>0.919488</td>\n",
       "      <td>0.907231</td>\n",
       "      <td>0.913120</td>\n",
       "      <td>0.906580</td>\n",
       "      <td>0.928188</td>\n",
       "      <td>0.914922</td>\n",
       "      <td>0.008109</td>\n",
       "    </tr>\n",
       "    <tr>\n",
       "      <th>2</th>\n",
       "      <td>0.009462</td>\n",
       "      <td>0.007727</td>\n",
       "      <td>0.003124</td>\n",
       "      <td>0.006248</td>\n",
       "      <td>447.723717</td>\n",
       "      <td>{'l2_norm__alpha': 447.72371740837025}</td>\n",
       "      <td>0.848973</td>\n",
       "      <td>0.905260</td>\n",
       "      <td>0.885792</td>\n",
       "      <td>0.918043</td>\n",
       "      <td>...</td>\n",
       "      <td>0.869621</td>\n",
       "      <td>0.046122</td>\n",
       "      <td>98</td>\n",
       "      <td>0.919470</td>\n",
       "      <td>0.907214</td>\n",
       "      <td>0.913102</td>\n",
       "      <td>0.906561</td>\n",
       "      <td>0.928173</td>\n",
       "      <td>0.914904</td>\n",
       "      <td>0.008111</td>\n",
       "    </tr>\n",
       "    <tr>\n",
       "      <th>3</th>\n",
       "      <td>0.012577</td>\n",
       "      <td>0.006290</td>\n",
       "      <td>0.003124</td>\n",
       "      <td>0.006249</td>\n",
       "      <td>448.244688</td>\n",
       "      <td>{'l2_norm__alpha': 448.24468792893083}</td>\n",
       "      <td>0.848975</td>\n",
       "      <td>0.905249</td>\n",
       "      <td>0.885796</td>\n",
       "      <td>0.918043</td>\n",
       "      <td>...</td>\n",
       "      <td>0.869622</td>\n",
       "      <td>0.046117</td>\n",
       "      <td>97</td>\n",
       "      <td>0.919452</td>\n",
       "      <td>0.907197</td>\n",
       "      <td>0.913084</td>\n",
       "      <td>0.906542</td>\n",
       "      <td>0.928159</td>\n",
       "      <td>0.914887</td>\n",
       "      <td>0.008112</td>\n",
       "    </tr>\n",
       "    <tr>\n",
       "      <th>4</th>\n",
       "      <td>0.008451</td>\n",
       "      <td>0.007103</td>\n",
       "      <td>0.003124</td>\n",
       "      <td>0.006248</td>\n",
       "      <td>448.766265</td>\n",
       "      <td>{'l2_norm__alpha': 448.76626464986174}</td>\n",
       "      <td>0.848977</td>\n",
       "      <td>0.905238</td>\n",
       "      <td>0.885801</td>\n",
       "      <td>0.918044</td>\n",
       "      <td>...</td>\n",
       "      <td>0.869623</td>\n",
       "      <td>0.046113</td>\n",
       "      <td>96</td>\n",
       "      <td>0.919435</td>\n",
       "      <td>0.907180</td>\n",
       "      <td>0.913065</td>\n",
       "      <td>0.906523</td>\n",
       "      <td>0.928144</td>\n",
       "      <td>0.914869</td>\n",
       "      <td>0.008113</td>\n",
       "    </tr>\n",
       "  </tbody>\n",
       "</table>\n",
       "<p>5 rows × 21 columns</p>\n",
       "</div>"
      ],
      "text/plain": [
       "   mean_fit_time  std_fit_time  mean_score_time  std_score_time  \\\n",
       "0       0.011772      0.006130         0.005514        0.005053   \n",
       "1       0.012576      0.006456         0.003124        0.006248   \n",
       "2       0.009462      0.007727         0.003124        0.006248   \n",
       "3       0.012577      0.006290         0.003124        0.006249   \n",
       "4       0.008451      0.007103         0.003124        0.006248   \n",
       "\n",
       "  param_l2_norm__alpha                                  params  \\\n",
       "0           446.683592    {'l2_norm__alpha': 446.683592150963}   \n",
       "1           447.203352  {'l2_norm__alpha': 447.20335238362566}   \n",
       "2           447.723717  {'l2_norm__alpha': 447.72371740837025}   \n",
       "3           448.244688  {'l2_norm__alpha': 448.24468792893083}   \n",
       "4           448.766265  {'l2_norm__alpha': 448.76626464986174}   \n",
       "\n",
       "   split0_test_score  split1_test_score  split2_test_score  split3_test_score  \\\n",
       "0           0.848970           0.905281           0.885784           0.918042   \n",
       "1           0.848971           0.905270           0.885788           0.918042   \n",
       "2           0.848973           0.905260           0.885792           0.918043   \n",
       "3           0.848975           0.905249           0.885796           0.918043   \n",
       "4           0.848977           0.905238           0.885801           0.918044   \n",
       "\n",
       "   ...  mean_test_score  std_test_score  rank_test_score  split0_train_score  \\\n",
       "0  ...         0.869619        0.046131              100            0.919506   \n",
       "1  ...         0.869620        0.046126               99            0.919488   \n",
       "2  ...         0.869621        0.046122               98            0.919470   \n",
       "3  ...         0.869622        0.046117               97            0.919452   \n",
       "4  ...         0.869623        0.046113               96            0.919435   \n",
       "\n",
       "   split1_train_score  split2_train_score  split3_train_score  \\\n",
       "0            0.907248            0.913138            0.906599   \n",
       "1            0.907231            0.913120            0.906580   \n",
       "2            0.907214            0.913102            0.906561   \n",
       "3            0.907197            0.913084            0.906542   \n",
       "4            0.907180            0.913065            0.906523   \n",
       "\n",
       "   split4_train_score  mean_train_score  std_train_score  \n",
       "0            0.928203          0.914939         0.008108  \n",
       "1            0.928188          0.914922         0.008109  \n",
       "2            0.928173          0.914904         0.008111  \n",
       "3            0.928159          0.914887         0.008112  \n",
       "4            0.928144          0.914869         0.008113  \n",
       "\n",
       "[5 rows x 21 columns]"
      ]
     },
     "execution_count": 39,
     "metadata": {},
     "output_type": "execute_result"
    }
   ],
   "source": [
    "grid_ridge_results=pd.DataFrame(grid_ridge.cv_results_)\n",
    "grid_ridge_results.head()"
   ]
  },
  {
   "cell_type": "code",
   "execution_count": 40,
   "id": "5da1abb3",
   "metadata": {},
   "outputs": [
    {
     "data": {
      "text/plain": [
       "0.8696441893427125"
      ]
     },
     "execution_count": 40,
     "metadata": {},
     "output_type": "execute_result"
    }
   ],
   "source": [
    "grid_ridge.best_score_"
   ]
  },
  {
   "cell_type": "code",
   "execution_count": 41,
   "id": "2576633d",
   "metadata": {},
   "outputs": [
    {
     "data": {
      "text/plain": [
       "477.8514732339196"
      ]
     },
     "execution_count": 41,
     "metadata": {},
     "output_type": "execute_result"
    }
   ],
   "source": [
    "#the r-squared of the ridge estimator is 87%\n",
    "\n",
    "grid_ridge.best_estimator_[1].alpha"
   ]
  },
  {
   "cell_type": "markdown",
   "id": "226b94d4",
   "metadata": {},
   "source": [
    "### The optimal value of λ for Ridge regression is 477.85"
   ]
  },
  {
   "cell_type": "code",
   "execution_count": 42,
   "id": "1bfc761c",
   "metadata": {},
   "outputs": [],
   "source": [
    "ridge=Ridge(grid_ridge.best_estimator_[1].alpha)"
   ]
  },
  {
   "cell_type": "code",
   "execution_count": 43,
   "id": "a1b774dc",
   "metadata": {},
   "outputs": [],
   "source": [
    "from sklearn.feature_selection import RFE"
   ]
  },
  {
   "cell_type": "code",
   "execution_count": 44,
   "id": "2bcb3bd1",
   "metadata": {},
   "outputs": [],
   "source": [
    "tmp_rfe_ridge1=RFE(ridge, n_features_to_select=1)"
   ]
  },
  {
   "cell_type": "code",
   "execution_count": 45,
   "id": "bc8a108a",
   "metadata": {},
   "outputs": [],
   "source": [
    "std=StandardScaler()\n",
    "\n",
    "# fit_transforming the train set\n",
    "# transforming the test set\n",
    "\n",
    "X_std=std.fit_transform(X)\n",
    "X_hold_std=std.transform(X_hold)\n",
    "\n",
    "y_std=std.fit_transform(y.values.reshape(-1,1))\n",
    "y_hold_std=std.transform(y_hold.values.reshape(-1,1))"
   ]
  },
  {
   "cell_type": "code",
   "execution_count": 46,
   "id": "bd994833",
   "metadata": {},
   "outputs": [
    {
     "data": {
      "text/plain": [
       "RFE(estimator=Ridge(alpha=477.8514732339196), n_features_to_select=1)"
      ]
     },
     "execution_count": 46,
     "metadata": {},
     "output_type": "execute_result"
    }
   ],
   "source": [
    "tmp_rfe_ridge1.fit(X_std,y_std)"
   ]
  },
  {
   "cell_type": "code",
   "execution_count": 47,
   "id": "db8d0a45",
   "metadata": {},
   "outputs": [],
   "source": [
    "# checking the features\n",
    "l1=list(zip(X.columns,tmp_rfe_ridge1.ranking_))\n",
    "l1.sort(key=lambda x:x[1])\n",
    "l1=pd.DataFrame(l1)\n",
    "l1.columns=['features_alpha','ranking_alpha']"
   ]
  },
  {
   "cell_type": "code",
   "execution_count": 48,
   "id": "d907dc2e",
   "metadata": {},
   "outputs": [],
   "source": [
    "ridge_2alpha=Ridge(2*grid_ridge.best_estimator_[1].alpha)"
   ]
  },
  {
   "cell_type": "code",
   "execution_count": 49,
   "id": "2062dd96",
   "metadata": {},
   "outputs": [],
   "source": [
    "tmp_rfe_ridge2=RFE(ridge_2alpha, n_features_to_select=1)"
   ]
  },
  {
   "cell_type": "code",
   "execution_count": 50,
   "id": "66da397b",
   "metadata": {},
   "outputs": [
    {
     "data": {
      "text/plain": [
       "RFE(estimator=Ridge(alpha=955.7029464678392), n_features_to_select=1)"
      ]
     },
     "execution_count": 50,
     "metadata": {},
     "output_type": "execute_result"
    }
   ],
   "source": [
    "tmp_rfe_ridge2.fit(X_std,y_std)"
   ]
  },
  {
   "cell_type": "code",
   "execution_count": 51,
   "id": "7fe51a0b",
   "metadata": {},
   "outputs": [],
   "source": [
    "# checking the features\n",
    "l2=list(zip(X.columns,tmp_rfe_ridge2.ranking_))\n",
    "l2.sort(key=lambda x:x[1])\n",
    "l2=pd.DataFrame(l2)\n",
    "l2.columns=['features_2alpha','ranking_2alpha']"
   ]
  },
  {
   "cell_type": "code",
   "execution_count": 52,
   "id": "3a241790",
   "metadata": {},
   "outputs": [
    {
     "data": {
      "text/html": [
       "<div>\n",
       "<style scoped>\n",
       "    .dataframe tbody tr th:only-of-type {\n",
       "        vertical-align: middle;\n",
       "    }\n",
       "\n",
       "    .dataframe tbody tr th {\n",
       "        vertical-align: top;\n",
       "    }\n",
       "\n",
       "    .dataframe thead th {\n",
       "        text-align: right;\n",
       "    }\n",
       "</style>\n",
       "<table border=\"1\" class=\"dataframe\">\n",
       "  <thead>\n",
       "    <tr style=\"text-align: right;\">\n",
       "      <th></th>\n",
       "      <th>features_alpha</th>\n",
       "      <th>ranking_alpha</th>\n",
       "      <th>features_2alpha</th>\n",
       "      <th>ranking_2alpha</th>\n",
       "    </tr>\n",
       "  </thead>\n",
       "  <tbody>\n",
       "    <tr>\n",
       "      <th>0</th>\n",
       "      <td>OverallQual</td>\n",
       "      <td>1</td>\n",
       "      <td>OverallQual</td>\n",
       "      <td>1</td>\n",
       "    </tr>\n",
       "    <tr>\n",
       "      <th>1</th>\n",
       "      <td>GrLivArea</td>\n",
       "      <td>2</td>\n",
       "      <td>GrLivArea</td>\n",
       "      <td>2</td>\n",
       "    </tr>\n",
       "    <tr>\n",
       "      <th>2</th>\n",
       "      <td>GarageCars</td>\n",
       "      <td>3</td>\n",
       "      <td>GarageCars</td>\n",
       "      <td>3</td>\n",
       "    </tr>\n",
       "    <tr>\n",
       "      <th>3</th>\n",
       "      <td>KitchenQual</td>\n",
       "      <td>4</td>\n",
       "      <td>KitchenQual</td>\n",
       "      <td>4</td>\n",
       "    </tr>\n",
       "    <tr>\n",
       "      <th>4</th>\n",
       "      <td>BsmtQual</td>\n",
       "      <td>5</td>\n",
       "      <td>BsmtQual</td>\n",
       "      <td>5</td>\n",
       "    </tr>\n",
       "    <tr>\n",
       "      <th>5</th>\n",
       "      <td>1stFlrSF</td>\n",
       "      <td>6</td>\n",
       "      <td>1stFlrSF</td>\n",
       "      <td>6</td>\n",
       "    </tr>\n",
       "    <tr>\n",
       "      <th>6</th>\n",
       "      <td>YearBuilt</td>\n",
       "      <td>7</td>\n",
       "      <td>YearBuilt</td>\n",
       "      <td>7</td>\n",
       "    </tr>\n",
       "    <tr>\n",
       "      <th>7</th>\n",
       "      <td>FireplaceQu</td>\n",
       "      <td>8</td>\n",
       "      <td>Fireplaces</td>\n",
       "      <td>8</td>\n",
       "    </tr>\n",
       "    <tr>\n",
       "      <th>8</th>\n",
       "      <td>OverallCond</td>\n",
       "      <td>9</td>\n",
       "      <td>ExterQual</td>\n",
       "      <td>9</td>\n",
       "    </tr>\n",
       "    <tr>\n",
       "      <th>9</th>\n",
       "      <td>MSZoning_RL</td>\n",
       "      <td>10</td>\n",
       "      <td>TotRmsAbvGrd</td>\n",
       "      <td>10</td>\n",
       "    </tr>\n",
       "  </tbody>\n",
       "</table>\n",
       "</div>"
      ],
      "text/plain": [
       "  features_alpha  ranking_alpha features_2alpha  ranking_2alpha\n",
       "0    OverallQual              1     OverallQual               1\n",
       "1      GrLivArea              2       GrLivArea               2\n",
       "2     GarageCars              3      GarageCars               3\n",
       "3    KitchenQual              4     KitchenQual               4\n",
       "4       BsmtQual              5        BsmtQual               5\n",
       "5       1stFlrSF              6        1stFlrSF               6\n",
       "6      YearBuilt              7       YearBuilt               7\n",
       "7    FireplaceQu              8      Fireplaces               8\n",
       "8    OverallCond              9       ExterQual               9\n",
       "9    MSZoning_RL             10    TotRmsAbvGrd              10"
      ]
     },
     "execution_count": 52,
     "metadata": {},
     "output_type": "execute_result"
    }
   ],
   "source": [
    "#comparing the features with the optimal value and its double value\n",
    "\n",
    "compare_ridge=pd.concat([l1,l2],axis=1)\n",
    "compare_ridge.head(10)"
   ]
  },
  {
   "cell_type": "markdown",
   "id": "5a5d5002",
   "metadata": {},
   "source": [
    "#### Top 7 features which are same for both the version with slight change in ranking of their features"
   ]
  },
  {
   "cell_type": "code",
   "execution_count": 53,
   "id": "b2b15840",
   "metadata": {},
   "outputs": [
    {
     "data": {
      "text/plain": [
       "Ridge(alpha=477.8514732339196)"
      ]
     },
     "execution_count": 53,
     "metadata": {},
     "output_type": "execute_result"
    }
   ],
   "source": [
    "#Residual Analysis(Ridge)\n",
    "#fit the data on ridge regression object\n",
    "\n",
    "ridge.fit(X_std,y_std)"
   ]
  },
  {
   "cell_type": "code",
   "execution_count": 54,
   "id": "50c9791a",
   "metadata": {},
   "outputs": [
    {
     "data": {
      "text/plain": [
       "array([[-0.14376317],\n",
       "       [-0.80330325],\n",
       "       [-0.45551229],\n",
       "       ...,\n",
       "       [ 0.04120945],\n",
       "       [-0.21650447],\n",
       "       [-0.77278381]])"
      ]
     },
     "execution_count": 54,
     "metadata": {},
     "output_type": "execute_result"
    }
   ],
   "source": [
    "#making prediction\n",
    "y_pred=ridge.predict(X_std)\n",
    "y_pred"
   ]
  },
  {
   "cell_type": "code",
   "execution_count": 55,
   "id": "c2043e2d",
   "metadata": {},
   "outputs": [
    {
     "data": {
      "text/plain": [
       "array([[ 0.06775451],\n",
       "       [ 0.19809113],\n",
       "       [ 0.23456409],\n",
       "       ...,\n",
       "       [ 0.03461353],\n",
       "       [-0.13194022],\n",
       "       [-0.00213176]])"
      ]
     },
     "execution_count": 55,
     "metadata": {},
     "output_type": "execute_result"
    }
   ],
   "source": [
    "#residuals\n",
    "res=y_std-y_pred\n",
    "res"
   ]
  },
  {
   "cell_type": "code",
   "execution_count": 56,
   "id": "e0a7f693",
   "metadata": {},
   "outputs": [
    {
     "data": {
      "image/png": "[encoded data removed]",
      "text/plain": [
       "<Figure size 600x400 with 1 Axes>"
      ]
     },
     "metadata": {
      "needs_background": "light"
     },
     "output_type": "display_data"
    }
   ],
   "source": [
    "plt.figure(dpi=100)\n",
    "plt.title('Residual Normality')\n",
    "sns.kdeplot(res.reshape(1,-1)[0], shade=True, color='Blue')\n",
    "plt.xlabel('res');"
   ]
  },
  {
   "cell_type": "markdown",
   "id": "5abf2385",
   "metadata": {},
   "source": [
    "#### The above plot show that the residuals are normal and centered around 0"
   ]
  },
  {
   "cell_type": "code",
   "execution_count": 57,
   "id": "48cc459f",
   "metadata": {},
   "outputs": [
    {
     "data": {
      "image/png": "[encoded data removed]",
      "text/plain": [
       "<Figure size 600x400 with 1 Axes>"
      ]
     },
     "metadata": {
      "needs_background": "light"
     },
     "output_type": "display_data"
    }
   ],
   "source": [
    "#residual plot with respect to the predicted values\n",
    "plt.figure(dpi=100)\n",
    "sns.scatterplot(x=y_pred.reshape(1,-1)[0], y=res.reshape(1,-1)[0], color='Blue')\n",
    "plt.ylabel('res')\n",
    "plt.xlabel('y_pred')\n",
    "sns.lineplot(x=y_pred.reshape(1,-1)[0], y=0, color='navy', ls='--');"
   ]
  },
  {
   "cell_type": "markdown",
   "id": "37129af7",
   "metadata": {},
   "source": [
    "#### Residuals are having uniform variance and are independent"
   ]
  },
  {
   "cell_type": "code",
   "execution_count": 58,
   "id": "5a6bba08",
   "metadata": {},
   "outputs": [],
   "source": [
    "#Evaluating the performance\n",
    "from sklearn.metrics import mean_absolute_error, r2_score"
   ]
  },
  {
   "cell_type": "code",
   "execution_count": 59,
   "id": "6d7fd437",
   "metadata": {},
   "outputs": [],
   "source": [
    "y_hold_pred=ridge.predict(X_hold_std)"
   ]
  },
  {
   "cell_type": "code",
   "execution_count": 60,
   "id": "ece049c9",
   "metadata": {},
   "outputs": [
    {
     "data": {
      "text/plain": [
       "0.881746283333125"
      ]
     },
     "execution_count": 60,
     "metadata": {},
     "output_type": "execute_result"
    }
   ],
   "source": [
    "r2_ridge_hold=r2_score(y_hold_std, y_hold_pred)\n",
    "r2_ridge_hold"
   ]
  },
  {
   "cell_type": "code",
   "execution_count": 61,
   "id": "a12c467d",
   "metadata": {},
   "outputs": [
    {
     "data": {
      "text/plain": [
       "17471.0458330932"
      ]
     },
     "execution_count": 61,
     "metadata": {},
     "output_type": "execute_result"
    }
   ],
   "source": [
    "MAE=mean_absolute_error(10**y_hold, 10**std.inverse_transform(y_hold_pred))\n",
    "MAE"
   ]
  },
  {
   "cell_type": "code",
   "execution_count": 62,
   "id": "df092934",
   "metadata": {},
   "outputs": [
    {
     "data": {
      "text/plain": [
       "186457.7123287671"
      ]
     },
     "execution_count": 62,
     "metadata": {},
     "output_type": "execute_result"
    }
   ],
   "source": [
    "# mean of all SalePrice\n",
    "mean_sp= (10**y_hold).mean()\n",
    "mean_sp"
   ]
  },
  {
   "cell_type": "code",
   "execution_count": 63,
   "id": "1771723d",
   "metadata": {},
   "outputs": [
    {
     "data": {
      "text/plain": [
       "9.36997757555225"
      ]
     },
     "execution_count": 63,
     "metadata": {},
     "output_type": "execute_result"
    }
   ],
   "source": [
    "error_perc=100*(MAE/mean_sp)\n",
    "error_perc"
   ]
  },
  {
   "cell_type": "markdown",
   "id": "4b77b77a",
   "metadata": {},
   "source": [
    "### Ridge model performance:\n",
    "####     predictive r2_score = 88%\n",
    "####     The sale price are off by ±9.36 %"
   ]
  },
  {
   "cell_type": "code",
   "execution_count": 64,
   "id": "696bd6b3",
   "metadata": {},
   "outputs": [],
   "source": [
    "#creating lasso Model\n",
    "param_lasso={'l1_norm__alpha':np.logspace(-2.75,-2.7,100)}"
   ]
  },
  {
   "cell_type": "code",
   "execution_count": 65,
   "id": "ba122f09",
   "metadata": {},
   "outputs": [],
   "source": [
    "grid_lasso=GridSearchCV(estimator=pipe2, param_grid=param_lasso, cv=5, scoring='r2', return_train_score=True)"
   ]
  },
  {
   "cell_type": "code",
   "execution_count": 66,
   "id": "4b5eae46",
   "metadata": {},
   "outputs": [
    {
     "data": {
      "text/plain": [
       "GridSearchCV(cv=5,\n",
       "             estimator=Pipeline(steps=[('scale', StandardScaler()),\n",
       "                                       ('l1_norm', Lasso())]),\n",
       "             param_grid={'l1_norm__alpha': array([0.00177828, 0.00178035, 0.00178242, 0.00178449, 0.00178657,\n",
       "       0.00178865, 0.00179073, 0.00179281, 0.0017949 , 0.00179699,\n",
       "       0.00179908, 0.00180117, 0.00180327, 0.00180537, 0.00180747,\n",
       "       0.00180957, 0.00181168, 0.00181379, 0.0018159 , 0.00181801,\n",
       "       0.0...\n",
       "       0.00192909, 0.00193134, 0.00193359, 0.00193584, 0.00193809,\n",
       "       0.00194034, 0.0019426 , 0.00194486, 0.00194713, 0.00194939,\n",
       "       0.00195166, 0.00195393, 0.0019562 , 0.00195848, 0.00196076,\n",
       "       0.00196304, 0.00196532, 0.00196761, 0.0019699 , 0.00197219,\n",
       "       0.00197449, 0.00197679, 0.00197909, 0.00198139, 0.00198369,\n",
       "       0.001986  , 0.00198831, 0.00199063, 0.00199294, 0.00199526])},\n",
       "             return_train_score=True, scoring='r2')"
      ]
     },
     "execution_count": 66,
     "metadata": {},
     "output_type": "execute_result"
    }
   ],
   "source": [
    "grid_lasso.fit(X,y)"
   ]
  },
  {
   "cell_type": "code",
   "execution_count": 67,
   "id": "b58f481a",
   "metadata": {},
   "outputs": [
    {
     "data": {
      "text/plain": [
       "Pipeline(steps=[('scale', StandardScaler()),\n",
       "                ('l1_norm', Lasso(alpha=0.0019001499684190594))])"
      ]
     },
     "execution_count": 67,
     "metadata": {},
     "output_type": "execute_result"
    }
   ],
   "source": [
    "grid_lasso.best_estimator_"
   ]
  },
  {
   "cell_type": "code",
   "execution_count": 68,
   "id": "8c3d69a2",
   "metadata": {},
   "outputs": [
    {
     "data": {
      "text/html": [
       "<div>\n",
       "<style scoped>\n",
       "    .dataframe tbody tr th:only-of-type {\n",
       "        vertical-align: middle;\n",
       "    }\n",
       "\n",
       "    .dataframe tbody tr th {\n",
       "        vertical-align: top;\n",
       "    }\n",
       "\n",
       "    .dataframe thead th {\n",
       "        text-align: right;\n",
       "    }\n",
       "</style>\n",
       "<table border=\"1\" class=\"dataframe\">\n",
       "  <thead>\n",
       "    <tr style=\"text-align: right;\">\n",
       "      <th></th>\n",
       "      <th>mean_fit_time</th>\n",
       "      <th>std_fit_time</th>\n",
       "      <th>mean_score_time</th>\n",
       "      <th>std_score_time</th>\n",
       "      <th>param_l1_norm__alpha</th>\n",
       "      <th>params</th>\n",
       "      <th>split0_test_score</th>\n",
       "      <th>split1_test_score</th>\n",
       "      <th>split2_test_score</th>\n",
       "      <th>split3_test_score</th>\n",
       "      <th>...</th>\n",
       "      <th>mean_test_score</th>\n",
       "      <th>std_test_score</th>\n",
       "      <th>rank_test_score</th>\n",
       "      <th>split0_train_score</th>\n",
       "      <th>split1_train_score</th>\n",
       "      <th>split2_train_score</th>\n",
       "      <th>split3_train_score</th>\n",
       "      <th>split4_train_score</th>\n",
       "      <th>mean_train_score</th>\n",
       "      <th>std_train_score</th>\n",
       "    </tr>\n",
       "  </thead>\n",
       "  <tbody>\n",
       "    <tr>\n",
       "      <th>0</th>\n",
       "      <td>0.015961</td>\n",
       "      <td>0.006000</td>\n",
       "      <td>0.002194</td>\n",
       "      <td>0.002221</td>\n",
       "      <td>0.001778</td>\n",
       "      <td>{'l1_norm__alpha': 0.0017782794100389228}</td>\n",
       "      <td>0.837794</td>\n",
       "      <td>0.917228</td>\n",
       "      <td>0.881044</td>\n",
       "      <td>0.920110</td>\n",
       "      <td>...</td>\n",
       "      <td>0.865207</td>\n",
       "      <td>0.056239</td>\n",
       "      <td>100</td>\n",
       "      <td>0.920707</td>\n",
       "      <td>0.908771</td>\n",
       "      <td>0.915110</td>\n",
       "      <td>0.908556</td>\n",
       "      <td>0.928344</td>\n",
       "      <td>0.916297</td>\n",
       "      <td>0.007517</td>\n",
       "    </tr>\n",
       "    <tr>\n",
       "      <th>1</th>\n",
       "      <td>0.021749</td>\n",
       "      <td>0.007760</td>\n",
       "      <td>0.003124</td>\n",
       "      <td>0.006249</td>\n",
       "      <td>0.00178</td>\n",
       "      <td>{'l1_norm__alpha': 0.0017803486127948383}</td>\n",
       "      <td>0.837793</td>\n",
       "      <td>0.917227</td>\n",
       "      <td>0.881057</td>\n",
       "      <td>0.920133</td>\n",
       "      <td>...</td>\n",
       "      <td>0.865212</td>\n",
       "      <td>0.056247</td>\n",
       "      <td>99</td>\n",
       "      <td>0.920690</td>\n",
       "      <td>0.908756</td>\n",
       "      <td>0.915092</td>\n",
       "      <td>0.908531</td>\n",
       "      <td>0.928330</td>\n",
       "      <td>0.916280</td>\n",
       "      <td>0.007520</td>\n",
       "    </tr>\n",
       "    <tr>\n",
       "      <th>2</th>\n",
       "      <td>0.026656</td>\n",
       "      <td>0.005759</td>\n",
       "      <td>0.010449</td>\n",
       "      <td>0.018505</td>\n",
       "      <td>0.001782</td>\n",
       "      <td>{'l1_norm__alpha': 0.001782420223271399}</td>\n",
       "      <td>0.837791</td>\n",
       "      <td>0.917226</td>\n",
       "      <td>0.881069</td>\n",
       "      <td>0.920156</td>\n",
       "      <td>...</td>\n",
       "      <td>0.865217</td>\n",
       "      <td>0.056255</td>\n",
       "      <td>98</td>\n",
       "      <td>0.920672</td>\n",
       "      <td>0.908740</td>\n",
       "      <td>0.915074</td>\n",
       "      <td>0.908507</td>\n",
       "      <td>0.928317</td>\n",
       "      <td>0.916262</td>\n",
       "      <td>0.007522</td>\n",
       "    </tr>\n",
       "    <tr>\n",
       "      <th>3</th>\n",
       "      <td>0.017431</td>\n",
       "      <td>0.002059</td>\n",
       "      <td>0.004522</td>\n",
       "      <td>0.005775</td>\n",
       "      <td>0.001784</td>\n",
       "      <td>{'l1_norm__alpha': 0.0017844942442702206}</td>\n",
       "      <td>0.837790</td>\n",
       "      <td>0.917225</td>\n",
       "      <td>0.881082</td>\n",
       "      <td>0.920179</td>\n",
       "      <td>...</td>\n",
       "      <td>0.865222</td>\n",
       "      <td>0.056263</td>\n",
       "      <td>97</td>\n",
       "      <td>0.920655</td>\n",
       "      <td>0.908725</td>\n",
       "      <td>0.915056</td>\n",
       "      <td>0.908482</td>\n",
       "      <td>0.928304</td>\n",
       "      <td>0.916244</td>\n",
       "      <td>0.007525</td>\n",
       "    </tr>\n",
       "    <tr>\n",
       "      <th>4</th>\n",
       "      <td>0.015759</td>\n",
       "      <td>0.000273</td>\n",
       "      <td>0.000000</td>\n",
       "      <td>0.000000</td>\n",
       "      <td>0.001787</td>\n",
       "      <td>{'l1_norm__alpha': 0.0017865706785961841}</td>\n",
       "      <td>0.837788</td>\n",
       "      <td>0.917223</td>\n",
       "      <td>0.881095</td>\n",
       "      <td>0.920201</td>\n",
       "      <td>...</td>\n",
       "      <td>0.865227</td>\n",
       "      <td>0.056271</td>\n",
       "      <td>96</td>\n",
       "      <td>0.920637</td>\n",
       "      <td>0.908710</td>\n",
       "      <td>0.915038</td>\n",
       "      <td>0.908457</td>\n",
       "      <td>0.928291</td>\n",
       "      <td>0.916227</td>\n",
       "      <td>0.007527</td>\n",
       "    </tr>\n",
       "  </tbody>\n",
       "</table>\n",
       "<p>5 rows × 21 columns</p>\n",
       "</div>"
      ],
      "text/plain": [
       "   mean_fit_time  std_fit_time  mean_score_time  std_score_time  \\\n",
       "0       0.015961      0.006000         0.002194        0.002221   \n",
       "1       0.021749      0.007760         0.003124        0.006249   \n",
       "2       0.026656      0.005759         0.010449        0.018505   \n",
       "3       0.017431      0.002059         0.004522        0.005775   \n",
       "4       0.015759      0.000273         0.000000        0.000000   \n",
       "\n",
       "  param_l1_norm__alpha                                     params  \\\n",
       "0             0.001778  {'l1_norm__alpha': 0.0017782794100389228}   \n",
       "1              0.00178  {'l1_norm__alpha': 0.0017803486127948383}   \n",
       "2             0.001782   {'l1_norm__alpha': 0.001782420223271399}   \n",
       "3             0.001784  {'l1_norm__alpha': 0.0017844942442702206}   \n",
       "4             0.001787  {'l1_norm__alpha': 0.0017865706785961841}   \n",
       "\n",
       "   split0_test_score  split1_test_score  split2_test_score  split3_test_score  \\\n",
       "0           0.837794           0.917228           0.881044           0.920110   \n",
       "1           0.837793           0.917227           0.881057           0.920133   \n",
       "2           0.837791           0.917226           0.881069           0.920156   \n",
       "3           0.837790           0.917225           0.881082           0.920179   \n",
       "4           0.837788           0.917223           0.881095           0.920201   \n",
       "\n",
       "   ...  mean_test_score  std_test_score  rank_test_score  split0_train_score  \\\n",
       "0  ...         0.865207        0.056239              100            0.920707   \n",
       "1  ...         0.865212        0.056247               99            0.920690   \n",
       "2  ...         0.865217        0.056255               98            0.920672   \n",
       "3  ...         0.865222        0.056263               97            0.920655   \n",
       "4  ...         0.865227        0.056271               96            0.920637   \n",
       "\n",
       "   split1_train_score  split2_train_score  split3_train_score  \\\n",
       "0            0.908771            0.915110            0.908556   \n",
       "1            0.908756            0.915092            0.908531   \n",
       "2            0.908740            0.915074            0.908507   \n",
       "3            0.908725            0.915056            0.908482   \n",
       "4            0.908710            0.915038            0.908457   \n",
       "\n",
       "   split4_train_score  mean_train_score  std_train_score  \n",
       "0            0.928344          0.916297         0.007517  \n",
       "1            0.928330          0.916280         0.007520  \n",
       "2            0.928317          0.916262         0.007522  \n",
       "3            0.928304          0.916244         0.007525  \n",
       "4            0.928291          0.916227         0.007527  \n",
       "\n",
       "[5 rows x 21 columns]"
      ]
     },
     "execution_count": 68,
     "metadata": {},
     "output_type": "execute_result"
    }
   ],
   "source": [
    "grid_lasso_results=pd.DataFrame(grid_lasso.cv_results_)\n",
    "grid_lasso_results.head()"
   ]
  },
  {
   "cell_type": "code",
   "execution_count": 69,
   "id": "6cf08bc2",
   "metadata": {},
   "outputs": [
    {
     "data": {
      "text/plain": [
       "0.865428561695927"
      ]
     },
     "execution_count": 69,
     "metadata": {},
     "output_type": "execute_result"
    }
   ],
   "source": [
    "grid_lasso.best_score_"
   ]
  },
  {
   "cell_type": "code",
   "execution_count": 70,
   "id": "b927a4e1",
   "metadata": {},
   "outputs": [
    {
     "data": {
      "text/plain": [
       "0.0019001499684190594"
      ]
     },
     "execution_count": 70,
     "metadata": {},
     "output_type": "execute_result"
    }
   ],
   "source": [
    "#the r-squared of the lasso estimator is 87%\n",
    "\n",
    "grid_lasso.best_estimator_[1].alpha"
   ]
  },
  {
   "cell_type": "markdown",
   "id": "83b7bb23",
   "metadata": {},
   "source": [
    "### The optimal value of λ for Lasso regression is 0.0019"
   ]
  },
  {
   "cell_type": "code",
   "execution_count": 71,
   "id": "516f059e",
   "metadata": {},
   "outputs": [
    {
     "data": {
      "text/plain": [
       "Lasso(alpha=0.0019001499684190594)"
      ]
     },
     "execution_count": 71,
     "metadata": {},
     "output_type": "execute_result"
    }
   ],
   "source": [
    "lasso=Lasso(grid_lasso.best_estimator_[1].alpha)\n",
    "lasso"
   ]
  },
  {
   "cell_type": "code",
   "execution_count": 72,
   "id": "30552f56",
   "metadata": {},
   "outputs": [],
   "source": [
    "tmp_rfe_lasso1=RFE(lasso, n_features_to_select=1)"
   ]
  },
  {
   "cell_type": "code",
   "execution_count": 73,
   "id": "54725410",
   "metadata": {},
   "outputs": [
    {
     "data": {
      "text/plain": [
       "RFE(estimator=Lasso(alpha=0.0019001499684190594), n_features_to_select=1)"
      ]
     },
     "execution_count": 73,
     "metadata": {},
     "output_type": "execute_result"
    }
   ],
   "source": [
    "tmp_rfe_lasso1.fit(X_std,y_std)"
   ]
  },
  {
   "cell_type": "code",
   "execution_count": 74,
   "id": "31b39154",
   "metadata": {},
   "outputs": [],
   "source": [
    "# checking the features\n",
    "l3=list(zip(X.columns,tmp_rfe_lasso1.ranking_))\n",
    "l3.sort(key=lambda x:x[1])\n",
    "l3=pd.DataFrame(l3)\n",
    "l3.columns=['features_alpha','ranking_alpha']"
   ]
  },
  {
   "cell_type": "code",
   "execution_count": 75,
   "id": "2ced5302",
   "metadata": {},
   "outputs": [],
   "source": [
    "lasso_2alpha=Lasso(2*grid_lasso.best_estimator_[1].alpha)"
   ]
  },
  {
   "cell_type": "code",
   "execution_count": 76,
   "id": "f958ef07",
   "metadata": {},
   "outputs": [],
   "source": [
    "tmp_rfe_lasso2=RFE(lasso_2alpha, n_features_to_select=1)"
   ]
  },
  {
   "cell_type": "code",
   "execution_count": 77,
   "id": "37bc1ca9",
   "metadata": {},
   "outputs": [
    {
     "data": {
      "text/plain": [
       "RFE(estimator=Lasso(alpha=0.003800299936838119), n_features_to_select=1)"
      ]
     },
     "execution_count": 77,
     "metadata": {},
     "output_type": "execute_result"
    }
   ],
   "source": [
    "tmp_rfe_lasso2.fit(X_std,y_std)"
   ]
  },
  {
   "cell_type": "code",
   "execution_count": 78,
   "id": "7bde3ccc",
   "metadata": {},
   "outputs": [],
   "source": [
    "# checking the features\n",
    "l4=list(zip(X.columns,tmp_rfe_lasso2.ranking_))\n",
    "l4.sort(key=lambda x:x[1])\n",
    "l4=pd.DataFrame(l4)\n",
    "l4.columns=['features_2alpha','ranking_2alpha']"
   ]
  },
  {
   "cell_type": "code",
   "execution_count": 79,
   "id": "dd14b6d2",
   "metadata": {},
   "outputs": [
    {
     "data": {
      "text/html": [
       "<div>\n",
       "<style scoped>\n",
       "    .dataframe tbody tr th:only-of-type {\n",
       "        vertical-align: middle;\n",
       "    }\n",
       "\n",
       "    .dataframe tbody tr th {\n",
       "        vertical-align: top;\n",
       "    }\n",
       "\n",
       "    .dataframe thead th {\n",
       "        text-align: right;\n",
       "    }\n",
       "</style>\n",
       "<table border=\"1\" class=\"dataframe\">\n",
       "  <thead>\n",
       "    <tr style=\"text-align: right;\">\n",
       "      <th></th>\n",
       "      <th>features_alpha</th>\n",
       "      <th>ranking_alpha</th>\n",
       "      <th>features_2alpha</th>\n",
       "      <th>ranking_2alpha</th>\n",
       "    </tr>\n",
       "  </thead>\n",
       "  <tbody>\n",
       "    <tr>\n",
       "      <th>0</th>\n",
       "      <td>OverallQual</td>\n",
       "      <td>1</td>\n",
       "      <td>OverallQual</td>\n",
       "      <td>1</td>\n",
       "    </tr>\n",
       "    <tr>\n",
       "      <th>1</th>\n",
       "      <td>GrLivArea</td>\n",
       "      <td>2</td>\n",
       "      <td>GrLivArea</td>\n",
       "      <td>2</td>\n",
       "    </tr>\n",
       "    <tr>\n",
       "      <th>2</th>\n",
       "      <td>YearBuilt</td>\n",
       "      <td>3</td>\n",
       "      <td>YearBuilt</td>\n",
       "      <td>3</td>\n",
       "    </tr>\n",
       "    <tr>\n",
       "      <th>3</th>\n",
       "      <td>OverallCond</td>\n",
       "      <td>4</td>\n",
       "      <td>GarageCars</td>\n",
       "      <td>4</td>\n",
       "    </tr>\n",
       "    <tr>\n",
       "      <th>4</th>\n",
       "      <td>TotalBsmtSF</td>\n",
       "      <td>5</td>\n",
       "      <td>OverallCond</td>\n",
       "      <td>5</td>\n",
       "    </tr>\n",
       "    <tr>\n",
       "      <th>5</th>\n",
       "      <td>RoofMatl_CompShg</td>\n",
       "      <td>6</td>\n",
       "      <td>TotalBsmtSF</td>\n",
       "      <td>6</td>\n",
       "    </tr>\n",
       "    <tr>\n",
       "      <th>6</th>\n",
       "      <td>RoofMatl_Tar&amp;Grv</td>\n",
       "      <td>7</td>\n",
       "      <td>MSZoning_RL</td>\n",
       "      <td>7</td>\n",
       "    </tr>\n",
       "    <tr>\n",
       "      <th>7</th>\n",
       "      <td>RoofMatl_WdShngl</td>\n",
       "      <td>8</td>\n",
       "      <td>RoofMatl_CompShg</td>\n",
       "      <td>8</td>\n",
       "    </tr>\n",
       "    <tr>\n",
       "      <th>8</th>\n",
       "      <td>RoofMatl_Metal</td>\n",
       "      <td>9</td>\n",
       "      <td>RoofMatl_Tar&amp;Grv</td>\n",
       "      <td>9</td>\n",
       "    </tr>\n",
       "    <tr>\n",
       "      <th>9</th>\n",
       "      <td>RoofMatl_Membran</td>\n",
       "      <td>10</td>\n",
       "      <td>RoofMatl_WdShngl</td>\n",
       "      <td>10</td>\n",
       "    </tr>\n",
       "  </tbody>\n",
       "</table>\n",
       "</div>"
      ],
      "text/plain": [
       "     features_alpha  ranking_alpha   features_2alpha  ranking_2alpha\n",
       "0       OverallQual              1       OverallQual               1\n",
       "1         GrLivArea              2         GrLivArea               2\n",
       "2         YearBuilt              3         YearBuilt               3\n",
       "3       OverallCond              4        GarageCars               4\n",
       "4       TotalBsmtSF              5       OverallCond               5\n",
       "5  RoofMatl_CompShg              6       TotalBsmtSF               6\n",
       "6  RoofMatl_Tar&Grv              7       MSZoning_RL               7\n",
       "7  RoofMatl_WdShngl              8  RoofMatl_CompShg               8\n",
       "8    RoofMatl_Metal              9  RoofMatl_Tar&Grv               9\n",
       "9  RoofMatl_Membran             10  RoofMatl_WdShngl              10"
      ]
     },
     "execution_count": 79,
     "metadata": {},
     "output_type": "execute_result"
    }
   ],
   "source": [
    "#comparing the features with the optimal value and its double value\n",
    "\n",
    "compare_lasso=pd.concat([l3,l4],axis=1)\n",
    "compare_lasso.head(10)"
   ]
  },
  {
   "cell_type": "markdown",
   "id": "441444ce",
   "metadata": {},
   "source": [
    "#### Top 3 features which are same for both the version, other than that the features are very different in both the version"
   ]
  },
  {
   "cell_type": "code",
   "execution_count": 80,
   "id": "65967bfc",
   "metadata": {},
   "outputs": [
    {
     "data": {
      "text/plain": [
       "Lasso(alpha=0.0019001499684190594)"
      ]
     },
     "execution_count": 80,
     "metadata": {},
     "output_type": "execute_result"
    }
   ],
   "source": [
    "#Residual Analysis(Lasso)\n",
    "# fit the data on the lasso regression object\n",
    "lasso.fit(X_std,y_std)"
   ]
  },
  {
   "cell_type": "code",
   "execution_count": 81,
   "id": "022a1735",
   "metadata": {},
   "outputs": [
    {
     "data": {
      "text/plain": [
       "array([-0.15241297, -0.81606443, -0.36923842, ...,  0.04014383,\n",
       "       -0.24537451, -0.73063997])"
      ]
     },
     "execution_count": 81,
     "metadata": {},
     "output_type": "execute_result"
    }
   ],
   "source": [
    "# making predictions off the data \n",
    "y_pred_lasso=lasso.predict(X_std)\n",
    "y_pred_lasso"
   ]
  },
  {
   "cell_type": "code",
   "execution_count": 82,
   "id": "99d2ebd9",
   "metadata": {},
   "outputs": [
    {
     "data": {
      "text/plain": [
       "array([ 0.07640431,  0.21085231,  0.14829022, ...,  0.03567915,\n",
       "       -0.10307017, -0.04427559])"
      ]
     },
     "execution_count": 82,
     "metadata": {},
     "output_type": "execute_result"
    }
   ],
   "source": [
    "#residuals\n",
    "res_lasso=y_std-y_pred_lasso.reshape(-1,1)\n",
    "res_lasso=res_lasso.reshape(1,-1)[0]\n",
    "res_lasso"
   ]
  },
  {
   "cell_type": "code",
   "execution_count": 83,
   "id": "53a30ed5",
   "metadata": {},
   "outputs": [
    {
     "data": {
      "image/png": "[encoded data removed]",
      "text/plain": [
       "<Figure size 600x400 with 1 Axes>"
      ]
     },
     "metadata": {
      "needs_background": "light"
     },
     "output_type": "display_data"
    }
   ],
   "source": [
    "plt.figure(dpi=100)\n",
    "plt.title('Residual Normality')\n",
    "sns.kdeplot(res_lasso, shade=True, color='Blue')\n",
    "plt.xlabel('res');"
   ]
  },
  {
   "cell_type": "markdown",
   "id": "26a31e55",
   "metadata": {},
   "source": [
    "#### The residual plot show that the residuals are normal and centered around 0"
   ]
  },
  {
   "cell_type": "code",
   "execution_count": 84,
   "id": "f1cf08f4",
   "metadata": {},
   "outputs": [
    {
     "data": {
      "image/png": "[encoded data removed]",
      "text/plain": [
       "<Figure size 600x400 with 1 Axes>"
      ]
     },
     "metadata": {
      "needs_background": "light"
     },
     "output_type": "display_data"
    }
   ],
   "source": [
    "plt.figure(dpi=100)\n",
    "sns.scatterplot(x=y_pred_lasso, y=res_lasso, color='Blue')\n",
    "plt.ylabel('res')\n",
    "plt.xlabel('y_pred')\n",
    "sns.lineplot(x=y_pred_lasso, y=0, color='navy', ls='--');"
   ]
  },
  {
   "cell_type": "markdown",
   "id": "578033da",
   "metadata": {},
   "source": [
    "### The residuals are having uniform variance and are independent"
   ]
  },
  {
   "cell_type": "code",
   "execution_count": 85,
   "id": "5cb6e6e9",
   "metadata": {},
   "outputs": [],
   "source": [
    "#Evaluating the performance\n",
    "y_hold_pred_lasso=lasso.predict(X_hold_std)"
   ]
  },
  {
   "cell_type": "code",
   "execution_count": 86,
   "id": "042805d1",
   "metadata": {},
   "outputs": [
    {
     "data": {
      "text/plain": [
       "0.9006139250267841"
      ]
     },
     "execution_count": 86,
     "metadata": {},
     "output_type": "execute_result"
    }
   ],
   "source": [
    "r2_score(y_hold_std, y_hold_pred_lasso)"
   ]
  },
  {
   "cell_type": "code",
   "execution_count": 87,
   "id": "3bd70538",
   "metadata": {},
   "outputs": [
    {
     "data": {
      "text/plain": [
       "15331.167281750213"
      ]
     },
     "execution_count": 87,
     "metadata": {},
     "output_type": "execute_result"
    }
   ],
   "source": [
    "MAE_lasso=mean_absolute_error(10**y_hold,10**std.inverse_transform(y_hold_pred_lasso.reshape(1,-1))[0])\n",
    "MAE_lasso"
   ]
  },
  {
   "cell_type": "code",
   "execution_count": 88,
   "id": "1058af2c",
   "metadata": {},
   "outputs": [
    {
     "data": {
      "text/plain": [
       "8.222329390547225"
      ]
     },
     "execution_count": 88,
     "metadata": {},
     "output_type": "execute_result"
    }
   ],
   "source": [
    "error_perc_lasso=100*(MAE_lasso/mean_sp)\n",
    "error_perc_lasso"
   ]
  },
  {
   "cell_type": "markdown",
   "id": "5d10442e",
   "metadata": {},
   "source": [
    "### Lasso model performance:\n",
    "####     predictive r2_score = 90%\n",
    "####     The sale price are off by ±8.22 %"
   ]
  },
  {
   "cell_type": "code",
   "execution_count": 89,
   "id": "7ee1be9f",
   "metadata": {},
   "outputs": [
    {
     "data": {
      "text/plain": [
       "215"
      ]
     },
     "execution_count": 89,
     "metadata": {},
     "output_type": "execute_result"
    }
   ],
   "source": [
    "#Performance Comparison\n",
    "(ridge.coef_!=0).sum()"
   ]
  },
  {
   "cell_type": "code",
   "execution_count": 90,
   "id": "6a386577",
   "metadata": {},
   "outputs": [
    {
     "data": {
      "text/plain": [
       "161"
      ]
     },
     "execution_count": 90,
     "metadata": {},
     "output_type": "execute_result"
    }
   ],
   "source": [
    "(lasso.coef_!=0).sum()"
   ]
  },
  {
   "cell_type": "code",
   "execution_count": 91,
   "id": "ed970afb",
   "metadata": {},
   "outputs": [],
   "source": [
    "#Lasso uses 161 predictor variables and Ridge uses 215 predictor variables. Hence Lasso is a lighter model"
   ]
  },
  {
   "cell_type": "code",
   "execution_count": 92,
   "id": "d22b2553",
   "metadata": {},
   "outputs": [
    {
     "data": {
      "text/html": [
       "<div>\n",
       "<style scoped>\n",
       "    .dataframe tbody tr th:only-of-type {\n",
       "        vertical-align: middle;\n",
       "    }\n",
       "\n",
       "    .dataframe tbody tr th {\n",
       "        vertical-align: top;\n",
       "    }\n",
       "\n",
       "    .dataframe thead th {\n",
       "        text-align: right;\n",
       "    }\n",
       "</style>\n",
       "<table border=\"1\" class=\"dataframe\">\n",
       "  <thead>\n",
       "    <tr style=\"text-align: right;\">\n",
       "      <th></th>\n",
       "      <th>0</th>\n",
       "      <th>1</th>\n",
       "    </tr>\n",
       "  </thead>\n",
       "  <tbody>\n",
       "    <tr>\n",
       "      <th>0</th>\n",
       "      <td>LotArea</td>\n",
       "      <td>0.053028</td>\n",
       "    </tr>\n",
       "    <tr>\n",
       "      <th>1</th>\n",
       "      <td>Street</td>\n",
       "      <td>0.015095</td>\n",
       "    </tr>\n",
       "    <tr>\n",
       "      <th>2</th>\n",
       "      <td>Alley</td>\n",
       "      <td>0.010278</td>\n",
       "    </tr>\n",
       "    <tr>\n",
       "      <th>3</th>\n",
       "      <td>Utilities</td>\n",
       "      <td>0.014307</td>\n",
       "    </tr>\n",
       "    <tr>\n",
       "      <th>4</th>\n",
       "      <td>OverallQual</td>\n",
       "      <td>0.162949</td>\n",
       "    </tr>\n",
       "    <tr>\n",
       "      <th>...</th>\n",
       "      <td>...</td>\n",
       "      <td>...</td>\n",
       "    </tr>\n",
       "    <tr>\n",
       "      <th>210</th>\n",
       "      <td>SaleCondition_AdjLand</td>\n",
       "      <td>0.013807</td>\n",
       "    </tr>\n",
       "    <tr>\n",
       "      <th>211</th>\n",
       "      <td>SaleCondition_Alloca</td>\n",
       "      <td>0.006489</td>\n",
       "    </tr>\n",
       "    <tr>\n",
       "      <th>212</th>\n",
       "      <td>SaleCondition_Family</td>\n",
       "      <td>-0.000000</td>\n",
       "    </tr>\n",
       "    <tr>\n",
       "      <th>213</th>\n",
       "      <td>SaleCondition_Normal</td>\n",
       "      <td>0.056184</td>\n",
       "    </tr>\n",
       "    <tr>\n",
       "      <th>214</th>\n",
       "      <td>SaleCondition_Partial</td>\n",
       "      <td>0.000000</td>\n",
       "    </tr>\n",
       "  </tbody>\n",
       "</table>\n",
       "<p>215 rows × 2 columns</p>\n",
       "</div>"
      ],
      "text/plain": [
       "                         0         1\n",
       "0                  LotArea  0.053028\n",
       "1                   Street  0.015095\n",
       "2                    Alley  0.010278\n",
       "3                Utilities  0.014307\n",
       "4              OverallQual  0.162949\n",
       "..                     ...       ...\n",
       "210  SaleCondition_AdjLand  0.013807\n",
       "211   SaleCondition_Alloca  0.006489\n",
       "212   SaleCondition_Family -0.000000\n",
       "213   SaleCondition_Normal  0.056184\n",
       "214  SaleCondition_Partial  0.000000\n",
       "\n",
       "[215 rows x 2 columns]"
      ]
     },
     "execution_count": 92,
     "metadata": {},
     "output_type": "execute_result"
    }
   ],
   "source": [
    "#Final model\n",
    "#chose lasso model for the final model\n",
    "\n",
    "lasso_coef=list(zip(X.columns, lasso.coef_))\n",
    "lasso_coef=pd.DataFrame(lasso_coef)\n",
    "lasso_coef"
   ]
  },
  {
   "cell_type": "code",
   "execution_count": null,
   "id": "651223ea",
   "metadata": {},
   "outputs": [],
   "source": []
  }
 ],
 "metadata": {
  "kernelspec": {
   "display_name": "Python 3 (ipykernel)",
   "language": "python",
   "name": "python3"
  },
  "language_info": {
   "codemirror_mode": {
    "name": "ipython",
    "version": 3
   },
   "file_extension": ".py",
   "mimetype": "text/x-python",
   "name": "python",
   "nbconvert_exporter": "python",
   "pygments_lexer": "ipython3",
   "version": "3.9.7"
  }
 },
 "nbformat": 4,
 "nbformat_minor": 5
}
